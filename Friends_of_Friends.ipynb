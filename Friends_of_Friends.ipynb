{
  "nbformat": 4,
  "nbformat_minor": 0,
  "metadata": {
    "colab": {
      "name": "Friends of Friends.ipynb",
      "version": "0.3.2",
      "provenance": [],
      "collapsed_sections": [],
      "include_colab_link": true
    },
    "kernelspec": {
      "name": "python3",
      "display_name": "Python 3"
    }
  },
  "cells": [
    {
      "cell_type": "markdown",
      "metadata": {
        "id": "view-in-github",
        "colab_type": "text"
      },
      "source": [
        "<a href=\"https://colab.research.google.com/github/elizabethts/Friends/blob/master/Friends_of_Friends.ipynb\" target=\"_parent\"><img src=\"https://colab.research.google.com/assets/colab-badge.svg\" alt=\"Open In Colab\"/></a>"
      ]
    },
    {
      "cell_type": "code",
      "metadata": {
        "id": "3cY2ftDHBU86",
        "colab_type": "code",
        "colab": {}
      },
      "source": [
        "import pandas as pd\n",
        "import numpy as np\n",
        "import matplotlib.pyplot as plt\n",
        "import seaborn as sns"
      ],
      "execution_count": 0,
      "outputs": []
    },
    {
      "cell_type": "code",
      "metadata": {
        "id": "cDwJ0WfbBRwE",
        "colab_type": "code",
        "colab": {}
      },
      "source": [
        "#load data\n",
        "url = 'https://docs.google.com/spreadsheets/d/e/2PACX-1vRi2ncvmWHBvU9TL02WM7GgtjWxWh_wNUQwPin6qCNApmh67O7umN_te4ZdKVFmJQc-FSorc-PZ9ty8/pub?gid=2060993164&single=true&output=csv'\n",
        "\n",
        "#create df\n",
        "df = pd.read_csv(url)"
      ],
      "execution_count": 0,
      "outputs": []
    },
    {
      "cell_type": "markdown",
      "metadata": {
        "id": "kVEkRQcoz8x0",
        "colab_type": "text"
      },
      "source": [
        "The episode dynamics are codified by numbers. The six friends are defined as follows: Chandler=1 Joey=2 Monica=3 Phoebe=4 Rachel=5 Ross=6\n",
        "\n",
        "So, 236 is a plotline made up of Joey, Monica, and Ross while 56 is a Rachel-Ross plotline.\n",
        "\n",
        "I've also further encoded each relationship with binary variables, but only ended up using dynamics.\n",
        "\n",
        "Episode ratings are taken from IMDB: https://www.imdb.com/title/tt0108778/episodes\n",
        "\n",
        "This dataset builds on the original dataset created by Alex Albright: https://raw.githubusercontent.com/apalbright/Friends/master/raw_data/friendsdata.csv\n"
      ]
    },
    {
      "cell_type": "code",
      "metadata": {
        "id": "EjdYp4ihBdLc",
        "colab_type": "code",
        "outputId": "5b71cdb1-bb23-47fc-9f13-80e427cf4ea3",
        "colab": {
          "base_uri": "https://localhost:8080/",
          "height": 478
        }
      },
      "source": [
        "df.head()"
      ],
      "execution_count": 31,
      "outputs": [
        {
          "output_type": "execute_result",
          "data": {
            "text/html": [
              "<div>\n",
              "<style scoped>\n",
              "    .dataframe tbody tr th:only-of-type {\n",
              "        vertical-align: middle;\n",
              "    }\n",
              "\n",
              "    .dataframe tbody tr th {\n",
              "        vertical-align: top;\n",
              "    }\n",
              "\n",
              "    .dataframe thead th {\n",
              "        text-align: right;\n",
              "    }\n",
              "</style>\n",
              "<table border=\"1\" class=\"dataframe\">\n",
              "  <thead>\n",
              "    <tr style=\"text-align: right;\">\n",
              "      <th></th>\n",
              "      <th>epseason</th>\n",
              "      <th>epnum</th>\n",
              "      <th>epname</th>\n",
              "      <th>rating</th>\n",
              "      <th>dynamics</th>\n",
              "      <th>chandler_joey</th>\n",
              "      <th>chandler_monica</th>\n",
              "      <th>chandler_phoebe</th>\n",
              "      <th>chandler_rachel</th>\n",
              "      <th>chandler_ross</th>\n",
              "      <th>joey_monica</th>\n",
              "      <th>joey_phoebe</th>\n",
              "      <th>joey_rachel</th>\n",
              "      <th>joey_ross</th>\n",
              "      <th>monica_phoebe</th>\n",
              "      <th>monica_rachel</th>\n",
              "      <th>monica_ross</th>\n",
              "      <th>phoebe_rachel</th>\n",
              "      <th>phoebe_ross</th>\n",
              "      <th>rachel_ross</th>\n",
              "    </tr>\n",
              "  </thead>\n",
              "  <tbody>\n",
              "    <tr>\n",
              "      <th>0</th>\n",
              "      <td>1</td>\n",
              "      <td>1</td>\n",
              "      <td>The One Where Monica Gets a Roommate</td>\n",
              "      <td>8.4</td>\n",
              "      <td>3</td>\n",
              "      <td>0</td>\n",
              "      <td>0</td>\n",
              "      <td>0</td>\n",
              "      <td>0</td>\n",
              "      <td>0</td>\n",
              "      <td>0</td>\n",
              "      <td>0</td>\n",
              "      <td>0</td>\n",
              "      <td>0</td>\n",
              "      <td>0</td>\n",
              "      <td>0</td>\n",
              "      <td>0</td>\n",
              "      <td>0</td>\n",
              "      <td>0</td>\n",
              "      <td>0</td>\n",
              "    </tr>\n",
              "    <tr>\n",
              "      <th>1</th>\n",
              "      <td>1</td>\n",
              "      <td>1</td>\n",
              "      <td>The One Where Monica Gets a Roommate</td>\n",
              "      <td>8.4</td>\n",
              "      <td>5</td>\n",
              "      <td>0</td>\n",
              "      <td>0</td>\n",
              "      <td>0</td>\n",
              "      <td>0</td>\n",
              "      <td>0</td>\n",
              "      <td>0</td>\n",
              "      <td>0</td>\n",
              "      <td>0</td>\n",
              "      <td>0</td>\n",
              "      <td>0</td>\n",
              "      <td>0</td>\n",
              "      <td>0</td>\n",
              "      <td>0</td>\n",
              "      <td>0</td>\n",
              "      <td>0</td>\n",
              "    </tr>\n",
              "    <tr>\n",
              "      <th>2</th>\n",
              "      <td>1</td>\n",
              "      <td>1</td>\n",
              "      <td>The One Where Monica Gets a Roommate</td>\n",
              "      <td>8.4</td>\n",
              "      <td>56</td>\n",
              "      <td>0</td>\n",
              "      <td>0</td>\n",
              "      <td>0</td>\n",
              "      <td>0</td>\n",
              "      <td>0</td>\n",
              "      <td>0</td>\n",
              "      <td>0</td>\n",
              "      <td>0</td>\n",
              "      <td>0</td>\n",
              "      <td>0</td>\n",
              "      <td>0</td>\n",
              "      <td>0</td>\n",
              "      <td>0</td>\n",
              "      <td>0</td>\n",
              "      <td>1</td>\n",
              "    </tr>\n",
              "    <tr>\n",
              "      <th>3</th>\n",
              "      <td>1</td>\n",
              "      <td>1</td>\n",
              "      <td>The One Where Monica Gets a Roommate</td>\n",
              "      <td>8.4</td>\n",
              "      <td>126</td>\n",
              "      <td>0</td>\n",
              "      <td>0</td>\n",
              "      <td>0</td>\n",
              "      <td>0</td>\n",
              "      <td>0</td>\n",
              "      <td>0</td>\n",
              "      <td>0</td>\n",
              "      <td>0</td>\n",
              "      <td>0</td>\n",
              "      <td>0</td>\n",
              "      <td>0</td>\n",
              "      <td>0</td>\n",
              "      <td>0</td>\n",
              "      <td>0</td>\n",
              "      <td>0</td>\n",
              "    </tr>\n",
              "    <tr>\n",
              "      <th>4</th>\n",
              "      <td>1</td>\n",
              "      <td>2</td>\n",
              "      <td>The One with the Sonogram at the End</td>\n",
              "      <td>8.1</td>\n",
              "      <td>3</td>\n",
              "      <td>0</td>\n",
              "      <td>0</td>\n",
              "      <td>0</td>\n",
              "      <td>0</td>\n",
              "      <td>0</td>\n",
              "      <td>0</td>\n",
              "      <td>0</td>\n",
              "      <td>0</td>\n",
              "      <td>0</td>\n",
              "      <td>0</td>\n",
              "      <td>0</td>\n",
              "      <td>0</td>\n",
              "      <td>0</td>\n",
              "      <td>0</td>\n",
              "      <td>0</td>\n",
              "    </tr>\n",
              "  </tbody>\n",
              "</table>\n",
              "</div>"
            ],
            "text/plain": [
              "   epseason  epnum  ... phoebe_ross  rachel_ross\n",
              "0         1      1  ...           0            0\n",
              "1         1      1  ...           0            0\n",
              "2         1      1  ...           0            1\n",
              "3         1      1  ...           0            0\n",
              "4         1      2  ...           0            0\n",
              "\n",
              "[5 rows x 20 columns]"
            ]
          },
          "metadata": {
            "tags": []
          },
          "execution_count": 31
        }
      ]
    },
    {
      "cell_type": "code",
      "metadata": {
        "id": "Scax7bwOEfbn",
        "colab_type": "code",
        "outputId": "115d1b0b-144f-4101-f259-b7a899ffd227",
        "colab": {
          "base_uri": "https://localhost:8080/",
          "height": 31
        }
      },
      "source": [
        "# 696 plotlines\n",
        "\n",
        "df.shape"
      ],
      "execution_count": 32,
      "outputs": [
        {
          "output_type": "execute_result",
          "data": {
            "text/plain": [
              "(696, 20)"
            ]
          },
          "metadata": {
            "tags": []
          },
          "execution_count": 32
        }
      ]
    },
    {
      "cell_type": "code",
      "metadata": {
        "id": "lNcKWL8PEivi",
        "colab_type": "code",
        "colab": {}
      },
      "source": [
        "# define names \n",
        "\n",
        "names = ['Chandler', 'Joey', 'Monica', 'Phoebe', 'Rachel', 'Ross']\n",
        "\n",
        "\n",
        "# define characters\n",
        "\n",
        "chandler = 1\n",
        "joey = 2\n",
        "monica = 3\n",
        "phoebe = 4\n",
        "rachel = 5\n",
        "ross = 6\n",
        "\n"
      ],
      "execution_count": 0,
      "outputs": []
    },
    {
      "cell_type": "code",
      "metadata": {
        "id": "tJfpVTd10WvO",
        "colab_type": "code",
        "outputId": "ea742516-8113-43fe-96af-2366129673f1",
        "colab": {
          "base_uri": "https://localhost:8080/",
          "height": 31
        }
      },
      "source": [
        "# count individual storylines\n",
        "\n",
        "#create a list of codes for individuals\n",
        "individual_plotline_codes = [chandler, joey, monica, phoebe, rachel, ross]\n",
        "\n",
        "\n",
        "#function to create a dict of individual storyline frequencies\n",
        "def find_ind_freq(list):\n",
        "  ind_freq = []\n",
        "  for i in list:\n",
        "    ind_freq.append(df[df['dynamics'] == i].count()[0])\n",
        "  ind_freq_dict = dict(zip(names, ind_freq))\n",
        "  return names, ind_freq, ind_freq_dict\n",
        "\n",
        "#find the individual frequencies\n",
        "names, ind_freq, ind_freq_dict =  find_ind_freq(individual_plotline_codes)\n",
        "print(ind_freq_dict)"
      ],
      "execution_count": 34,
      "outputs": [
        {
          "output_type": "stream",
          "text": [
            "{'Chandler': 34, 'Joey': 54, 'Monica': 42, 'Phoebe': 65, 'Rachel': 47, 'Ross': 56}\n"
          ],
          "name": "stdout"
        }
      ]
    },
    {
      "cell_type": "code",
      "metadata": {
        "id": "xTaKmRaE0Wxs",
        "colab_type": "code",
        "outputId": "e8fd7ced-c36c-45cf-c118-71564a52fba7",
        "colab": {
          "base_uri": "https://localhost:8080/",
          "height": 390
        }
      },
      "source": [
        "# plot the individual frequencies\n",
        "\n",
        "# data \n",
        "labels = names\n",
        "y_pos = np.arange(len(labels))\n",
        "frequency = find_ind_freq(individual_plotline_codes)[1]\n",
        "\n",
        "# plot and size\n",
        "fig, ax = plt.subplots(figsize=(10,6))\n",
        "plt.bar(y_pos, frequency, align='center', alpha=1)\n",
        "\n",
        "# ticks and labels\n",
        "plt.xticks(y_pos, labels)\n",
        "plt.ylabel('# Individual Plotlines')\n",
        "plt.title('Independent Character Frequency')\n",
        "for index,data in enumerate(frequency):\n",
        "    plt.text(x=index , y =data+1 , s=f\"{data}\" , fontdict=dict(fontsize=10))\n",
        "\n",
        "plt.show()"
      ],
      "execution_count": 35,
      "outputs": [
        {
          "output_type": "display_data",
          "data": {
            "image/png": "[encoded data removed]",
            "text/plain": [
              "<Figure size 720x432 with 1 Axes>"
            ]
          },
          "metadata": {
            "tags": []
          }
        }
      ]
    },
    {
      "cell_type": "code",
      "metadata": {
        "id": "oJugjFg99WHT",
        "colab_type": "code",
        "outputId": "a4aafae7-483b-4581-c845-081ab7b66a07",
        "colab": {
          "base_uri": "https://localhost:8080/",
          "height": 85
        }
      },
      "source": [
        "# define all 2 person dynamics\n",
        "\n",
        "couple_codes = [12,13,14,15,16,23,24,25,26,34,35,36,45,46,56]\n",
        "couple_names = ['chandler_joey', 'chandler_monica', 'chandler_phoebe','chandler_rachel', 'chandler_ross'\n",
        "                           , 'joey_monica', 'joey_phoebe', 'joey_rachel', 'joey_ross'\n",
        "                           , 'monica_phoebe', 'monica_rachel', 'monica_ross'\n",
        "                           , 'phoebe_rachel', 'phoebe_ross'\n",
        "                           , 'rachel_ross']\n",
        "\n",
        "# create function to find pair frequencies\n",
        "def find_twop_freq(list):\n",
        "  twop_freq = []\n",
        "  for i in list:\n",
        "    twop_freq.append(df[df['dynamics'] == i].count()[0])\n",
        "  twop_freq_dict = dict(zip(couple_names, twop_freq))\n",
        "  return couple_names, twop_freq, twop_freq_dict\n",
        "\n",
        "\n",
        "# find pair frequencies\n",
        "couple, two_person_freq, twop_freq_dict =  find_twop_freq(couple_codes)\n",
        "print(twop_freq_dict)\n",
        "two_person_freq\n"
      ],
      "execution_count": 36,
      "outputs": [
        {
          "output_type": "stream",
          "text": [
            "{'chandler_joey': 36, 'chandler_monica': 63, 'chandler_phoebe': 6, 'chandler_rachel': 7, 'chandler_ross': 12, 'joey_monica': 7, 'joey_phoebe': 20, 'joey_rachel': 26, 'joey_ross': 14, 'monica_phoebe': 18, 'monica_rachel': 12, 'monica_ross': 4, 'phoebe_rachel': 17, 'phoebe_ross': 14, 'rachel_ross': 70}\n"
          ],
          "name": "stdout"
        },
        {
          "output_type": "execute_result",
          "data": {
            "text/plain": [
              "[36, 63, 6, 7, 12, 7, 20, 26, 14, 18, 12, 4, 17, 14, 70]"
            ]
          },
          "metadata": {
            "tags": []
          },
          "execution_count": 36
        }
      ]
    },
    {
      "cell_type": "code",
      "metadata": {
        "id": "ClKMEPVwbWEe",
        "colab_type": "code",
        "outputId": "8383ee5f-d562-4fc5-8eaa-d0b77dcf6035",
        "colab": {
          "base_uri": "https://localhost:8080/",
          "height": 429
        }
      },
      "source": [
        "# put the pairs/frequencies in a dataframe to sort\n",
        "\n",
        "couple_df  = pd.DataFrame(twop_freq_dict,index=twop_freq_dict.keys())\n",
        "couple_df = couple_df.iloc[0:1]\n",
        "couple_df = couple_df.T\n",
        "couple_df = couple_df.reset_index()\n",
        "couple_df.columns = [ 'pair','freq']\n",
        "couple_df = couple_df.sort_values('freq', ascending = False)\n",
        "couple_df\n"
      ],
      "execution_count": 37,
      "outputs": [
        {
          "output_type": "execute_result",
          "data": {
            "text/html": [
              "<div>\n",
              "<style scoped>\n",
              "    .dataframe tbody tr th:only-of-type {\n",
              "        vertical-align: middle;\n",
              "    }\n",
              "\n",
              "    .dataframe tbody tr th {\n",
              "        vertical-align: top;\n",
              "    }\n",
              "\n",
              "    .dataframe thead th {\n",
              "        text-align: right;\n",
              "    }\n",
              "</style>\n",
              "<table border=\"1\" class=\"dataframe\">\n",
              "  <thead>\n",
              "    <tr style=\"text-align: right;\">\n",
              "      <th></th>\n",
              "      <th>pair</th>\n",
              "      <th>freq</th>\n",
              "    </tr>\n",
              "  </thead>\n",
              "  <tbody>\n",
              "    <tr>\n",
              "      <th>14</th>\n",
              "      <td>rachel_ross</td>\n",
              "      <td>70</td>\n",
              "    </tr>\n",
              "    <tr>\n",
              "      <th>1</th>\n",
              "      <td>chandler_monica</td>\n",
              "      <td>63</td>\n",
              "    </tr>\n",
              "    <tr>\n",
              "      <th>0</th>\n",
              "      <td>chandler_joey</td>\n",
              "      <td>36</td>\n",
              "    </tr>\n",
              "    <tr>\n",
              "      <th>7</th>\n",
              "      <td>joey_rachel</td>\n",
              "      <td>26</td>\n",
              "    </tr>\n",
              "    <tr>\n",
              "      <th>6</th>\n",
              "      <td>joey_phoebe</td>\n",
              "      <td>20</td>\n",
              "    </tr>\n",
              "    <tr>\n",
              "      <th>9</th>\n",
              "      <td>monica_phoebe</td>\n",
              "      <td>18</td>\n",
              "    </tr>\n",
              "    <tr>\n",
              "      <th>12</th>\n",
              "      <td>phoebe_rachel</td>\n",
              "      <td>17</td>\n",
              "    </tr>\n",
              "    <tr>\n",
              "      <th>8</th>\n",
              "      <td>joey_ross</td>\n",
              "      <td>14</td>\n",
              "    </tr>\n",
              "    <tr>\n",
              "      <th>13</th>\n",
              "      <td>phoebe_ross</td>\n",
              "      <td>14</td>\n",
              "    </tr>\n",
              "    <tr>\n",
              "      <th>4</th>\n",
              "      <td>chandler_ross</td>\n",
              "      <td>12</td>\n",
              "    </tr>\n",
              "    <tr>\n",
              "      <th>10</th>\n",
              "      <td>monica_rachel</td>\n",
              "      <td>12</td>\n",
              "    </tr>\n",
              "    <tr>\n",
              "      <th>3</th>\n",
              "      <td>chandler_rachel</td>\n",
              "      <td>7</td>\n",
              "    </tr>\n",
              "    <tr>\n",
              "      <th>5</th>\n",
              "      <td>joey_monica</td>\n",
              "      <td>7</td>\n",
              "    </tr>\n",
              "    <tr>\n",
              "      <th>2</th>\n",
              "      <td>chandler_phoebe</td>\n",
              "      <td>6</td>\n",
              "    </tr>\n",
              "    <tr>\n",
              "      <th>11</th>\n",
              "      <td>monica_ross</td>\n",
              "      <td>4</td>\n",
              "    </tr>\n",
              "  </tbody>\n",
              "</table>\n",
              "</div>"
            ],
            "text/plain": [
              "               pair  freq\n",
              "14      rachel_ross    70\n",
              "1   chandler_monica    63\n",
              "0     chandler_joey    36\n",
              "7       joey_rachel    26\n",
              "6       joey_phoebe    20\n",
              "9     monica_phoebe    18\n",
              "12    phoebe_rachel    17\n",
              "8         joey_ross    14\n",
              "13      phoebe_ross    14\n",
              "4     chandler_ross    12\n",
              "10    monica_rachel    12\n",
              "3   chandler_rachel     7\n",
              "5       joey_monica     7\n",
              "2   chandler_phoebe     6\n",
              "11      monica_ross     4"
            ]
          },
          "metadata": {
            "tags": []
          },
          "execution_count": 37
        }
      ]
    },
    {
      "cell_type": "code",
      "metadata": {
        "id": "_g-b37PnCFx2",
        "colab_type": "code",
        "outputId": "9654a926-df94-43f5-e29c-1c4817cc7413",
        "colab": {
          "base_uri": "https://localhost:8080/",
          "height": 629
        }
      },
      "source": [
        "# data\n",
        "labels = couple_df.pair\n",
        "y_pos = np.arange(len(labels))\n",
        "frequency = couple_df.freq\n",
        "\n",
        "# define colors\n",
        "colors = ['#BC312A', '#FFDC00' , '#42A2D6', '#BC312A', '#FFDC00' , '#42A2D6'\n",
        "          , '#BC312A', '#FFDC00' , '#42A2D6', '#BC312A', '#FFDC00' , '#42A2D6'\n",
        "          ,'#BC312A', '#FFDC00' , '#42A2D6']\n",
        "\n",
        "# figure, size, and style\n",
        "fig, ax = plt.subplots(figsize=(15,9))\n",
        "plt.style.use('dark_background')\n",
        "plt.grid(False)\n",
        "plt.box(False)\n",
        "plt.bar(y_pos, frequency, align='center', alpha=1, color = colors)\n",
        "\n",
        "# ticks and labels\n",
        "plt.xticks(y_pos, labels, rotation = 90)\n",
        "plt.ylabel('# Plotlines')\n",
        "plt.title('Two Person Plotline Frequency')\n",
        "for index,data in enumerate(frequency):\n",
        "    plt.text(x=index-0.1 , y =data+1 , s=f\"{data}\" , fontdict=dict(fontsize=8))\n",
        "\n",
        "\n",
        "#plt.savefig('2pfreq.png')"
      ],
      "execution_count": 38,
      "outputs": [
        {
          "output_type": "display_data",
          "data": {
            "image/png": "[encoded data removed]",
            "text/plain": [
              "<Figure size 1080x648 with 1 Axes>"
            ]
          },
          "metadata": {
            "tags": []
          }
        }
      ]
    },
    {
      "cell_type": "code",
      "metadata": {
        "id": "Vt9pextkfoZ_",
        "colab_type": "code",
        "colab": {
          "base_uri": "https://localhost:8080/",
          "height": 71
        },
        "outputId": "1e9df097-30eb-4030-848a-14c6da281c62"
      },
      "source": [
        "# didn't use this part in the project \n",
        "# find the average rating of each pair\n",
        "\n",
        "# define couple codes and names\n",
        "couple_codes = [12,13,14,15,16,23,24,25,26,34,35,36,45,46,56]\n",
        "couple_names = ['chandler_joey', 'chandler_monica', 'chandler_phoebe','chandler_rachel', 'chandler_ross'\n",
        "                           , 'joey_monica', 'joey_phoebe', 'joey_rachel', 'joey_ross'\n",
        "                           , 'monica_phoebe', 'monica_rachel', 'monica_ross'\n",
        "                           , 'phoebe_rachel', 'phoebe_ross'\n",
        "                           , 'rachel_ross']\n",
        "\n",
        "#create a function to find avg rating\n",
        "def find_couple_rating(list):\n",
        "  ratings = []\n",
        "  for i in list:\n",
        "    ratings.append(df[df['dynamics'] == i].rating.mean())\n",
        "  couple_ratings_dict = dict(zip(couple_names, ratings))\n",
        "  return couple_names, ratings, couple_ratings_dict\n",
        "\n",
        "print(find_couple_rating(couple_codes)[2])"
      ],
      "execution_count": 39,
      "outputs": [
        {
          "output_type": "stream",
          "text": [
            "{'chandler_joey': 8.591666666666665, 'chandler_monica': 8.622222222222224, 'chandler_phoebe': 8.583333333333334, 'chandler_rachel': 8.742857142857142, 'chandler_ross': 8.441666666666666, 'joey_monica': 8.514285714285716, 'joey_phoebe': 8.5, 'joey_rachel': 8.48076923076923, 'joey_ross': 8.521428571428572, 'monica_phoebe': 8.33888888888889, 'monica_rachel': 8.55, 'monica_ross': 8.5, 'phoebe_rachel': 8.57058823529412, 'phoebe_ross': 8.514285714285716, 'rachel_ross': 8.584285714285718}\n"
          ],
          "name": "stdout"
        }
      ]
    },
    {
      "cell_type": "code",
      "metadata": {
        "id": "ju9SAjqVic0-",
        "colab_type": "code",
        "colab": {
          "base_uri": "https://localhost:8080/",
          "height": 429
        },
        "outputId": "4fb03061-33db-40a5-acda-0382b2906033"
      },
      "source": [
        "# didn't use this part in the project \n",
        "\n",
        "# define couple rating dict\n",
        "couple_rating_dict = find_couple_rating(couple_codes)[2]\n",
        "\n",
        "\n",
        "# merge the pair rating into a new df couple_rating_df\n",
        "couple_rating_df  = pd.DataFrame(couple_rating_dict,index=couple_rating_dict.keys())\n",
        "couple_rating_df = couple_rating_df.iloc[0:1]\n",
        "couple_rating_df = couple_rating_df.T\n",
        "couple_rating_df = couple_rating_df.reset_index()\n",
        "couple_rating_df.columns = [ 'pair','rating']\n",
        "couple_rating_df = couple_rating_df.sort_values('rating', ascending = False)\n",
        "couple_rating_df\n",
        "rating_freq_df = pd.merge(couple_rating_df, couple_df)\n",
        "rating_freq_df = rating_freq_df.sort_values('freq', ascending = False)\n",
        "rating_freq_df"
      ],
      "execution_count": 40,
      "outputs": [
        {
          "output_type": "execute_result",
          "data": {
            "text/html": [
              "<div>\n",
              "<style scoped>\n",
              "    .dataframe tbody tr th:only-of-type {\n",
              "        vertical-align: middle;\n",
              "    }\n",
              "\n",
              "    .dataframe tbody tr th {\n",
              "        vertical-align: top;\n",
              "    }\n",
              "\n",
              "    .dataframe thead th {\n",
              "        text-align: right;\n",
              "    }\n",
              "</style>\n",
              "<table border=\"1\" class=\"dataframe\">\n",
              "  <thead>\n",
              "    <tr style=\"text-align: right;\">\n",
              "      <th></th>\n",
              "      <th>pair</th>\n",
              "      <th>rating</th>\n",
              "      <th>freq</th>\n",
              "    </tr>\n",
              "  </thead>\n",
              "  <tbody>\n",
              "    <tr>\n",
              "      <th>3</th>\n",
              "      <td>rachel_ross</td>\n",
              "      <td>8.584286</td>\n",
              "      <td>70</td>\n",
              "    </tr>\n",
              "    <tr>\n",
              "      <th>1</th>\n",
              "      <td>chandler_monica</td>\n",
              "      <td>8.622222</td>\n",
              "      <td>63</td>\n",
              "    </tr>\n",
              "    <tr>\n",
              "      <th>2</th>\n",
              "      <td>chandler_joey</td>\n",
              "      <td>8.591667</td>\n",
              "      <td>36</td>\n",
              "    </tr>\n",
              "    <tr>\n",
              "      <th>12</th>\n",
              "      <td>joey_rachel</td>\n",
              "      <td>8.480769</td>\n",
              "      <td>26</td>\n",
              "    </tr>\n",
              "    <tr>\n",
              "      <th>10</th>\n",
              "      <td>joey_phoebe</td>\n",
              "      <td>8.500000</td>\n",
              "      <td>20</td>\n",
              "    </tr>\n",
              "    <tr>\n",
              "      <th>14</th>\n",
              "      <td>monica_phoebe</td>\n",
              "      <td>8.338889</td>\n",
              "      <td>18</td>\n",
              "    </tr>\n",
              "    <tr>\n",
              "      <th>5</th>\n",
              "      <td>phoebe_rachel</td>\n",
              "      <td>8.570588</td>\n",
              "      <td>17</td>\n",
              "    </tr>\n",
              "    <tr>\n",
              "      <th>7</th>\n",
              "      <td>joey_ross</td>\n",
              "      <td>8.521429</td>\n",
              "      <td>14</td>\n",
              "    </tr>\n",
              "    <tr>\n",
              "      <th>9</th>\n",
              "      <td>phoebe_ross</td>\n",
              "      <td>8.514286</td>\n",
              "      <td>14</td>\n",
              "    </tr>\n",
              "    <tr>\n",
              "      <th>6</th>\n",
              "      <td>monica_rachel</td>\n",
              "      <td>8.550000</td>\n",
              "      <td>12</td>\n",
              "    </tr>\n",
              "    <tr>\n",
              "      <th>13</th>\n",
              "      <td>chandler_ross</td>\n",
              "      <td>8.441667</td>\n",
              "      <td>12</td>\n",
              "    </tr>\n",
              "    <tr>\n",
              "      <th>0</th>\n",
              "      <td>chandler_rachel</td>\n",
              "      <td>8.742857</td>\n",
              "      <td>7</td>\n",
              "    </tr>\n",
              "    <tr>\n",
              "      <th>8</th>\n",
              "      <td>joey_monica</td>\n",
              "      <td>8.514286</td>\n",
              "      <td>7</td>\n",
              "    </tr>\n",
              "    <tr>\n",
              "      <th>4</th>\n",
              "      <td>chandler_phoebe</td>\n",
              "      <td>8.583333</td>\n",
              "      <td>6</td>\n",
              "    </tr>\n",
              "    <tr>\n",
              "      <th>11</th>\n",
              "      <td>monica_ross</td>\n",
              "      <td>8.500000</td>\n",
              "      <td>4</td>\n",
              "    </tr>\n",
              "  </tbody>\n",
              "</table>\n",
              "</div>"
            ],
            "text/plain": [
              "               pair    rating  freq\n",
              "3       rachel_ross  8.584286    70\n",
              "1   chandler_monica  8.622222    63\n",
              "2     chandler_joey  8.591667    36\n",
              "12      joey_rachel  8.480769    26\n",
              "10      joey_phoebe  8.500000    20\n",
              "14    monica_phoebe  8.338889    18\n",
              "5     phoebe_rachel  8.570588    17\n",
              "7         joey_ross  8.521429    14\n",
              "9       phoebe_ross  8.514286    14\n",
              "6     monica_rachel  8.550000    12\n",
              "13    chandler_ross  8.441667    12\n",
              "0   chandler_rachel  8.742857     7\n",
              "8       joey_monica  8.514286     7\n",
              "4   chandler_phoebe  8.583333     6\n",
              "11      monica_ross  8.500000     4"
            ]
          },
          "metadata": {
            "tags": []
          },
          "execution_count": 40
        }
      ]
    },
    {
      "cell_type": "code",
      "metadata": {
        "id": "5hIw6T5gi5sx",
        "colab_type": "code",
        "colab": {
          "base_uri": "https://localhost:8080/",
          "height": 629
        },
        "outputId": "cd5cd4bb-4ed7-44f2-c0aa-055c0cfbbdb9"
      },
      "source": [
        "# didn't use this part in the project \n",
        "\n",
        "# define sorted name variable\n",
        "couple_names_sorted = couple_df.pair.to_list()\n",
        "\n",
        "# data\n",
        "labels = couple_names_sorted\n",
        "y_pos = np.arange(len(labels))\n",
        "couple_rating = rating_freq_df.rating\n",
        "\n",
        "# colors\n",
        "colors = ['#BC312A', '#FFDC00' , '#42A2D6', '#BC312A', '#FFDC00' , '#42A2D6'\n",
        "          , '#BC312A', '#FFDC00' , '#42A2D6', '#BC312A', '#FFDC00' , '#42A2D6'\n",
        "          ,'#BC312A', '#FFDC00' , '#42A2D6']\n",
        "\n",
        "# plot, size, style\n",
        "fig, ax = plt.subplots(figsize=(15,9))\n",
        "plt.style.use('dark_background')\n",
        "plt.bar(y_pos, couple_rating, align='center', alpha=1, color = colors)\n",
        "plt.grid(False)\n",
        "plt.box(False)\n",
        "\n",
        "\n",
        "# ticks and labels\n",
        "plt.xticks(y_pos, labels, rotation = 90)\n",
        "plt.ylabel('Rating')\n",
        "plt.title('Two Person Ratings');\n"
      ],
      "execution_count": 41,
      "outputs": [
        {
          "output_type": "display_data",
          "data": {
            "image/png": "[encoded data removed]",
            "text/plain": [
              "<Figure size 1080x648 with 1 Axes>"
            ]
          },
          "metadata": {
            "tags": []
          }
        }
      ]
    },
    {
      "cell_type": "code",
      "metadata": {
        "id": "WTYTzt8FiquU",
        "colab_type": "code",
        "colab": {
          "base_uri": "https://localhost:8080/",
          "height": 31
        },
        "outputId": "b2a0073f-36c5-4f74-d381-07c7a27bb125"
      },
      "source": [
        "# find the top 5 episodes\n",
        "\n",
        "sorted_ratings = df[['epseason','epnum','epname','rating']]\n",
        "sorted_ratings = sorted_ratings.sort_values(['rating', 'epseason','epnum'], ascending = False)\n",
        "sorted_ratings = sorted_ratings.drop_duplicates(subset=['epseason', 'epnum'], keep='first')\n",
        "\n",
        "top_five = [i for i in sorted_ratings.epname][0:5]\n",
        "print('The top 5 episodes are:',top_five)"
      ],
      "execution_count": 42,
      "outputs": [
        {
          "output_type": "stream",
          "text": [
            "The top 5 episodes are: ['The Last One: Part 2', 'The One Where Everybody Finds Out', 'The Last One: Part 1', 'The One with the Embryos', 'The One with the Prom Video']\n"
          ],
          "name": "stdout"
        }
      ]
    },
    {
      "cell_type": "code",
      "metadata": {
        "id": "qDpNZtwLkgRa",
        "colab_type": "code",
        "colab": {
          "base_uri": "https://localhost:8080/",
          "height": 557
        },
        "outputId": "8a0b658a-bf31-4f8e-ddcf-582386a725c2"
      },
      "source": [
        "sorted_ratings.head(20)"
      ],
      "execution_count": 43,
      "outputs": [
        {
          "output_type": "execute_result",
          "data": {
            "text/html": [
              "<div>\n",
              "<style scoped>\n",
              "    .dataframe tbody tr th:only-of-type {\n",
              "        vertical-align: middle;\n",
              "    }\n",
              "\n",
              "    .dataframe tbody tr th {\n",
              "        vertical-align: top;\n",
              "    }\n",
              "\n",
              "    .dataframe thead th {\n",
              "        text-align: right;\n",
              "    }\n",
              "</style>\n",
              "<table border=\"1\" class=\"dataframe\">\n",
              "  <thead>\n",
              "    <tr style=\"text-align: right;\">\n",
              "      <th></th>\n",
              "      <th>epseason</th>\n",
              "      <th>epnum</th>\n",
              "      <th>epname</th>\n",
              "      <th>rating</th>\n",
              "    </tr>\n",
              "  </thead>\n",
              "  <tbody>\n",
              "    <tr>\n",
              "      <th>692</th>\n",
              "      <td>10</td>\n",
              "      <td>18</td>\n",
              "      <td>The Last One: Part 2</td>\n",
              "      <td>9.7</td>\n",
              "    </tr>\n",
              "    <tr>\n",
              "      <th>322</th>\n",
              "      <td>5</td>\n",
              "      <td>14</td>\n",
              "      <td>The One Where Everybody Finds Out</td>\n",
              "      <td>9.7</td>\n",
              "    </tr>\n",
              "    <tr>\n",
              "      <th>688</th>\n",
              "      <td>10</td>\n",
              "      <td>17</td>\n",
              "      <td>The Last One: Part 1</td>\n",
              "      <td>9.5</td>\n",
              "    </tr>\n",
              "    <tr>\n",
              "      <th>251</th>\n",
              "      <td>4</td>\n",
              "      <td>12</td>\n",
              "      <td>The One with the Embryos</td>\n",
              "      <td>9.4</td>\n",
              "    </tr>\n",
              "    <tr>\n",
              "      <th>116</th>\n",
              "      <td>2</td>\n",
              "      <td>14</td>\n",
              "      <td>The One with the Prom Video</td>\n",
              "      <td>9.4</td>\n",
              "    </tr>\n",
              "    <tr>\n",
              "      <th>520</th>\n",
              "      <td>8</td>\n",
              "      <td>9</td>\n",
              "      <td>The One with the Rumor</td>\n",
              "      <td>9.3</td>\n",
              "    </tr>\n",
              "    <tr>\n",
              "      <th>506</th>\n",
              "      <td>8</td>\n",
              "      <td>4</td>\n",
              "      <td>The One with the Videotape</td>\n",
              "      <td>9.3</td>\n",
              "    </tr>\n",
              "    <tr>\n",
              "      <th>430</th>\n",
              "      <td>6</td>\n",
              "      <td>25</td>\n",
              "      <td>The One with the Proposal: Part 2</td>\n",
              "      <td>9.3</td>\n",
              "    </tr>\n",
              "    <tr>\n",
              "      <th>380</th>\n",
              "      <td>6</td>\n",
              "      <td>9</td>\n",
              "      <td>The One Where Ross Got High</td>\n",
              "      <td>9.2</td>\n",
              "    </tr>\n",
              "    <tr>\n",
              "      <th>305</th>\n",
              "      <td>5</td>\n",
              "      <td>8</td>\n",
              "      <td>The One with the Thanksgivings</td>\n",
              "      <td>9.2</td>\n",
              "    </tr>\n",
              "    <tr>\n",
              "      <th>282</th>\n",
              "      <td>4</td>\n",
              "      <td>24</td>\n",
              "      <td>The One with Ross's Wedding: Part Two</td>\n",
              "      <td>9.2</td>\n",
              "    </tr>\n",
              "    <tr>\n",
              "      <th>501</th>\n",
              "      <td>8</td>\n",
              "      <td>2</td>\n",
              "      <td>The One with the Red Sweater</td>\n",
              "      <td>9.1</td>\n",
              "    </tr>\n",
              "    <tr>\n",
              "      <th>495</th>\n",
              "      <td>7</td>\n",
              "      <td>24</td>\n",
              "      <td>The One with Monica and Chandler's Wedding: Pa...</td>\n",
              "      <td>9.1</td>\n",
              "    </tr>\n",
              "    <tr>\n",
              "      <th>410</th>\n",
              "      <td>6</td>\n",
              "      <td>17</td>\n",
              "      <td>The One with Unagi</td>\n",
              "      <td>9.1</td>\n",
              "    </tr>\n",
              "    <tr>\n",
              "      <th>353</th>\n",
              "      <td>5</td>\n",
              "      <td>24</td>\n",
              "      <td>The One in Vegas: Part 2</td>\n",
              "      <td>9.1</td>\n",
              "    </tr>\n",
              "    <tr>\n",
              "      <th>312</th>\n",
              "      <td>5</td>\n",
              "      <td>11</td>\n",
              "      <td>The One with All the Resolutions</td>\n",
              "      <td>9.1</td>\n",
              "    </tr>\n",
              "    <tr>\n",
              "      <th>306</th>\n",
              "      <td>5</td>\n",
              "      <td>9</td>\n",
              "      <td>The One with Ross's Sandwich</td>\n",
              "      <td>9.1</td>\n",
              "    </tr>\n",
              "    <tr>\n",
              "      <th>241</th>\n",
              "      <td>4</td>\n",
              "      <td>8</td>\n",
              "      <td>The One with Chandler in a Box</td>\n",
              "      <td>9.1</td>\n",
              "    </tr>\n",
              "    <tr>\n",
              "      <th>222</th>\n",
              "      <td>4</td>\n",
              "      <td>1</td>\n",
              "      <td>The One with the Jellyfish</td>\n",
              "      <td>9.1</td>\n",
              "    </tr>\n",
              "    <tr>\n",
              "      <th>195</th>\n",
              "      <td>3</td>\n",
              "      <td>16</td>\n",
              "      <td>The One the Morning After</td>\n",
              "      <td>9.1</td>\n",
              "    </tr>\n",
              "  </tbody>\n",
              "</table>\n",
              "</div>"
            ],
            "text/plain": [
              "     epseason  epnum                                             epname  rating\n",
              "692        10     18                               The Last One: Part 2     9.7\n",
              "322         5     14                  The One Where Everybody Finds Out     9.7\n",
              "688        10     17                               The Last One: Part 1     9.5\n",
              "251         4     12                           The One with the Embryos     9.4\n",
              "116         2     14                        The One with the Prom Video     9.4\n",
              "520         8      9                             The One with the Rumor     9.3\n",
              "506         8      4                         The One with the Videotape     9.3\n",
              "430         6     25                  The One with the Proposal: Part 2     9.3\n",
              "380         6      9                        The One Where Ross Got High     9.2\n",
              "305         5      8                     The One with the Thanksgivings     9.2\n",
              "282         4     24              The One with Ross's Wedding: Part Two     9.2\n",
              "501         8      2                       The One with the Red Sweater     9.1\n",
              "495         7     24  The One with Monica and Chandler's Wedding: Pa...     9.1\n",
              "410         6     17                                 The One with Unagi     9.1\n",
              "353         5     24                           The One in Vegas: Part 2     9.1\n",
              "312         5     11                   The One with All the Resolutions     9.1\n",
              "306         5      9                       The One with Ross's Sandwich     9.1\n",
              "241         4      8                     The One with Chandler in a Box     9.1\n",
              "222         4      1                         The One with the Jellyfish     9.1\n",
              "195         3     16                          The One the Morning After     9.1"
            ]
          },
          "metadata": {
            "tags": []
          },
          "execution_count": 43
        }
      ]
    },
    {
      "cell_type": "code",
      "metadata": {
        "id": "OBufb8Vd3yL4",
        "colab_type": "code",
        "outputId": "d0ee4cad-a122-450e-b3b0-e622b132f79c",
        "colab": {
          "base_uri": "https://localhost:8080/",
          "height": 186
        }
      },
      "source": [
        "# create new df to drop duplicates on episodes to just get ratings\n",
        "df2 = df[['epseason','epnum','rating']]\n",
        "ep_ratings = df2.drop_duplicates(subset=['epseason', 'epnum'], keep='first')\n",
        "ep_ratings.to_csv('episode_ratings.csv')\n",
        "print(ep_ratings.shape)\n",
        "ep_ratings.head()\n",
        "\n",
        "#confirmed 236 episodes in all 10 seasons of Friends"
      ],
      "execution_count": 45,
      "outputs": [
        {
          "output_type": "stream",
          "text": [
            "(236, 3)\n"
          ],
          "name": "stdout"
        },
        {
          "output_type": "execute_result",
          "data": {
            "text/html": [
              "<div>\n",
              "<style scoped>\n",
              "    .dataframe tbody tr th:only-of-type {\n",
              "        vertical-align: middle;\n",
              "    }\n",
              "\n",
              "    .dataframe tbody tr th {\n",
              "        vertical-align: top;\n",
              "    }\n",
              "\n",
              "    .dataframe thead th {\n",
              "        text-align: right;\n",
              "    }\n",
              "</style>\n",
              "<table border=\"1\" class=\"dataframe\">\n",
              "  <thead>\n",
              "    <tr style=\"text-align: right;\">\n",
              "      <th></th>\n",
              "      <th>epseason</th>\n",
              "      <th>epnum</th>\n",
              "      <th>rating</th>\n",
              "    </tr>\n",
              "  </thead>\n",
              "  <tbody>\n",
              "    <tr>\n",
              "      <th>0</th>\n",
              "      <td>1</td>\n",
              "      <td>1</td>\n",
              "      <td>8.4</td>\n",
              "    </tr>\n",
              "    <tr>\n",
              "      <th>4</th>\n",
              "      <td>1</td>\n",
              "      <td>2</td>\n",
              "      <td>8.1</td>\n",
              "    </tr>\n",
              "    <tr>\n",
              "      <th>7</th>\n",
              "      <td>1</td>\n",
              "      <td>3</td>\n",
              "      <td>8.2</td>\n",
              "    </tr>\n",
              "    <tr>\n",
              "      <th>10</th>\n",
              "      <td>1</td>\n",
              "      <td>4</td>\n",
              "      <td>8.2</td>\n",
              "    </tr>\n",
              "    <tr>\n",
              "      <th>13</th>\n",
              "      <td>1</td>\n",
              "      <td>5</td>\n",
              "      <td>8.5</td>\n",
              "    </tr>\n",
              "  </tbody>\n",
              "</table>\n",
              "</div>"
            ],
            "text/plain": [
              "    epseason  epnum  rating\n",
              "0          1      1     8.4\n",
              "4          1      2     8.1\n",
              "7          1      3     8.2\n",
              "10         1      4     8.2\n",
              "13         1      5     8.5"
            ]
          },
          "metadata": {
            "tags": []
          },
          "execution_count": 45
        }
      ]
    },
    {
      "cell_type": "code",
      "metadata": {
        "id": "hJ6FdAUu5TW5",
        "colab_type": "code",
        "outputId": "00173bb9-044c-49da-f693-ae15b7af792c",
        "colab": {
          "base_uri": "https://localhost:8080/",
          "height": 711
        }
      },
      "source": [
        "# create a pt of the ratings\n",
        "pt = pd.pivot_table(df2, values = 'rating', index=['epnum'], columns = 'epseason')\n",
        "pt.to_csv('friends_ratings.csv', index=False)\n",
        "pt"
      ],
      "execution_count": 47,
      "outputs": [
        {
          "output_type": "execute_result",
          "data": {
            "text/html": [
              "<div>\n",
              "<style scoped>\n",
              "    .dataframe tbody tr th:only-of-type {\n",
              "        vertical-align: middle;\n",
              "    }\n",
              "\n",
              "    .dataframe tbody tr th {\n",
              "        vertical-align: top;\n",
              "    }\n",
              "\n",
              "    .dataframe thead th {\n",
              "        text-align: right;\n",
              "    }\n",
              "</style>\n",
              "<table border=\"1\" class=\"dataframe\">\n",
              "  <thead>\n",
              "    <tr style=\"text-align: right;\">\n",
              "      <th>epseason</th>\n",
              "      <th>1</th>\n",
              "      <th>2</th>\n",
              "      <th>3</th>\n",
              "      <th>4</th>\n",
              "      <th>5</th>\n",
              "      <th>6</th>\n",
              "      <th>7</th>\n",
              "      <th>8</th>\n",
              "      <th>9</th>\n",
              "      <th>10</th>\n",
              "    </tr>\n",
              "    <tr>\n",
              "      <th>epnum</th>\n",
              "      <th></th>\n",
              "      <th></th>\n",
              "      <th></th>\n",
              "      <th></th>\n",
              "      <th></th>\n",
              "      <th></th>\n",
              "      <th></th>\n",
              "      <th></th>\n",
              "      <th></th>\n",
              "      <th></th>\n",
              "    </tr>\n",
              "  </thead>\n",
              "  <tbody>\n",
              "    <tr>\n",
              "      <th>1</th>\n",
              "      <td>8.4</td>\n",
              "      <td>8.5</td>\n",
              "      <td>8.5</td>\n",
              "      <td>9.1</td>\n",
              "      <td>8.9</td>\n",
              "      <td>8.8</td>\n",
              "      <td>8.4</td>\n",
              "      <td>8.7</td>\n",
              "      <td>8.6</td>\n",
              "      <td>8.5</td>\n",
              "    </tr>\n",
              "    <tr>\n",
              "      <th>2</th>\n",
              "      <td>8.1</td>\n",
              "      <td>8.3</td>\n",
              "      <td>9.0</td>\n",
              "      <td>8.1</td>\n",
              "      <td>9.0</td>\n",
              "      <td>8.3</td>\n",
              "      <td>8.4</td>\n",
              "      <td>9.1</td>\n",
              "      <td>8.6</td>\n",
              "      <td>8.8</td>\n",
              "    </tr>\n",
              "    <tr>\n",
              "      <th>3</th>\n",
              "      <td>8.2</td>\n",
              "      <td>8.4</td>\n",
              "      <td>8.1</td>\n",
              "      <td>8.5</td>\n",
              "      <td>8.8</td>\n",
              "      <td>8.3</td>\n",
              "      <td>8.2</td>\n",
              "      <td>8.7</td>\n",
              "      <td>8.3</td>\n",
              "      <td>8.8</td>\n",
              "    </tr>\n",
              "    <tr>\n",
              "      <th>4</th>\n",
              "      <td>8.2</td>\n",
              "      <td>8.0</td>\n",
              "      <td>8.1</td>\n",
              "      <td>8.3</td>\n",
              "      <td>8.3</td>\n",
              "      <td>8.6</td>\n",
              "      <td>8.2</td>\n",
              "      <td>9.3</td>\n",
              "      <td>8.2</td>\n",
              "      <td>8.4</td>\n",
              "    </tr>\n",
              "    <tr>\n",
              "      <th>5</th>\n",
              "      <td>8.5</td>\n",
              "      <td>8.3</td>\n",
              "      <td>8.2</td>\n",
              "      <td>8.4</td>\n",
              "      <td>8.8</td>\n",
              "      <td>8.2</td>\n",
              "      <td>8.2</td>\n",
              "      <td>8.2</td>\n",
              "      <td>8.5</td>\n",
              "      <td>8.3</td>\n",
              "    </tr>\n",
              "    <tr>\n",
              "      <th>6</th>\n",
              "      <td>8.2</td>\n",
              "      <td>8.6</td>\n",
              "      <td>9.1</td>\n",
              "      <td>8.6</td>\n",
              "      <td>8.1</td>\n",
              "      <td>8.6</td>\n",
              "      <td>8.9</td>\n",
              "      <td>8.6</td>\n",
              "      <td>8.4</td>\n",
              "      <td>8.2</td>\n",
              "    </tr>\n",
              "    <tr>\n",
              "      <th>7</th>\n",
              "      <td>9.0</td>\n",
              "      <td>9.0</td>\n",
              "      <td>8.4</td>\n",
              "      <td>8.8</td>\n",
              "      <td>8.4</td>\n",
              "      <td>8.4</td>\n",
              "      <td>8.5</td>\n",
              "      <td>8.0</td>\n",
              "      <td>8.7</td>\n",
              "      <td>8.3</td>\n",
              "    </tr>\n",
              "    <tr>\n",
              "      <th>8</th>\n",
              "      <td>8.2</td>\n",
              "      <td>8.5</td>\n",
              "      <td>8.4</td>\n",
              "      <td>9.1</td>\n",
              "      <td>9.2</td>\n",
              "      <td>8.6</td>\n",
              "      <td>8.2</td>\n",
              "      <td>8.8</td>\n",
              "      <td>8.8</td>\n",
              "      <td>8.9</td>\n",
              "    </tr>\n",
              "    <tr>\n",
              "      <th>9</th>\n",
              "      <td>8.3</td>\n",
              "      <td>8.0</td>\n",
              "      <td>9.0</td>\n",
              "      <td>8.0</td>\n",
              "      <td>9.1</td>\n",
              "      <td>9.2</td>\n",
              "      <td>8.2</td>\n",
              "      <td>9.3</td>\n",
              "      <td>8.2</td>\n",
              "      <td>8.6</td>\n",
              "    </tr>\n",
              "    <tr>\n",
              "      <th>10</th>\n",
              "      <td>8.1</td>\n",
              "      <td>8.1</td>\n",
              "      <td>8.2</td>\n",
              "      <td>8.1</td>\n",
              "      <td>8.2</td>\n",
              "      <td>8.6</td>\n",
              "      <td>8.6</td>\n",
              "      <td>8.1</td>\n",
              "      <td>7.6</td>\n",
              "      <td>8.0</td>\n",
              "    </tr>\n",
              "    <tr>\n",
              "      <th>11</th>\n",
              "      <td>8.3</td>\n",
              "      <td>8.2</td>\n",
              "      <td>8.6</td>\n",
              "      <td>8.5</td>\n",
              "      <td>9.1</td>\n",
              "      <td>8.2</td>\n",
              "      <td>8.6</td>\n",
              "      <td>8.1</td>\n",
              "      <td>8.1</td>\n",
              "      <td>9.0</td>\n",
              "    </tr>\n",
              "    <tr>\n",
              "      <th>12</th>\n",
              "      <td>8.3</td>\n",
              "      <td>8.7</td>\n",
              "      <td>8.3</td>\n",
              "      <td>9.4</td>\n",
              "      <td>8.3</td>\n",
              "      <td>8.1</td>\n",
              "      <td>8.7</td>\n",
              "      <td>8.6</td>\n",
              "      <td>8.0</td>\n",
              "      <td>8.9</td>\n",
              "    </tr>\n",
              "    <tr>\n",
              "      <th>13</th>\n",
              "      <td>8.7</td>\n",
              "      <td>8.8</td>\n",
              "      <td>8.3</td>\n",
              "      <td>8.3</td>\n",
              "      <td>8.2</td>\n",
              "      <td>8.3</td>\n",
              "      <td>8.5</td>\n",
              "      <td>8.6</td>\n",
              "      <td>8.2</td>\n",
              "      <td>8.5</td>\n",
              "    </tr>\n",
              "    <tr>\n",
              "      <th>14</th>\n",
              "      <td>8.3</td>\n",
              "      <td>9.4</td>\n",
              "      <td>7.9</td>\n",
              "      <td>8.3</td>\n",
              "      <td>9.7</td>\n",
              "      <td>8.6</td>\n",
              "      <td>8.6</td>\n",
              "      <td>8.3</td>\n",
              "      <td>8.3</td>\n",
              "      <td>8.7</td>\n",
              "    </tr>\n",
              "    <tr>\n",
              "      <th>15</th>\n",
              "      <td>8.3</td>\n",
              "      <td>8.9</td>\n",
              "      <td>8.6</td>\n",
              "      <td>8.5</td>\n",
              "      <td>8.6</td>\n",
              "      <td>8.6</td>\n",
              "      <td>8.5</td>\n",
              "      <td>8.4</td>\n",
              "      <td>8.4</td>\n",
              "      <td>8.6</td>\n",
              "    </tr>\n",
              "    <tr>\n",
              "      <th>16</th>\n",
              "      <td>8.2</td>\n",
              "      <td>8.6</td>\n",
              "      <td>9.1</td>\n",
              "      <td>8.3</td>\n",
              "      <td>8.6</td>\n",
              "      <td>8.6</td>\n",
              "      <td>8.7</td>\n",
              "      <td>8.3</td>\n",
              "      <td>8.3</td>\n",
              "      <td>8.9</td>\n",
              "    </tr>\n",
              "    <tr>\n",
              "      <th>17</th>\n",
              "      <td>8.5</td>\n",
              "      <td>8.4</td>\n",
              "      <td>8.3</td>\n",
              "      <td>8.7</td>\n",
              "      <td>8.5</td>\n",
              "      <td>9.1</td>\n",
              "      <td>8.4</td>\n",
              "      <td>8.2</td>\n",
              "      <td>8.5</td>\n",
              "      <td>9.5</td>\n",
              "    </tr>\n",
              "    <tr>\n",
              "      <th>18</th>\n",
              "      <td>8.9</td>\n",
              "      <td>8.5</td>\n",
              "      <td>8.5</td>\n",
              "      <td>8.4</td>\n",
              "      <td>8.1</td>\n",
              "      <td>8.4</td>\n",
              "      <td>8.5</td>\n",
              "      <td>8.2</td>\n",
              "      <td>8.6</td>\n",
              "      <td>9.7</td>\n",
              "    </tr>\n",
              "    <tr>\n",
              "      <th>19</th>\n",
              "      <td>8.2</td>\n",
              "      <td>8.6</td>\n",
              "      <td>8.2</td>\n",
              "      <td>8.7</td>\n",
              "      <td>8.8</td>\n",
              "      <td>8.4</td>\n",
              "      <td>8.7</td>\n",
              "      <td>7.5</td>\n",
              "      <td>8.2</td>\n",
              "      <td>NaN</td>\n",
              "    </tr>\n",
              "    <tr>\n",
              "      <th>20</th>\n",
              "      <td>8.0</td>\n",
              "      <td>8.2</td>\n",
              "      <td>8.2</td>\n",
              "      <td>8.6</td>\n",
              "      <td>8.4</td>\n",
              "      <td>7.5</td>\n",
              "      <td>8.5</td>\n",
              "      <td>7.5</td>\n",
              "      <td>8.3</td>\n",
              "      <td>NaN</td>\n",
              "    </tr>\n",
              "    <tr>\n",
              "      <th>21</th>\n",
              "      <td>8.0</td>\n",
              "      <td>8.2</td>\n",
              "      <td>8.8</td>\n",
              "      <td>7.3</td>\n",
              "      <td>8.6</td>\n",
              "      <td>8.6</td>\n",
              "      <td>7.5</td>\n",
              "      <td>8.2</td>\n",
              "      <td>8.2</td>\n",
              "      <td>NaN</td>\n",
              "    </tr>\n",
              "    <tr>\n",
              "      <th>22</th>\n",
              "      <td>8.4</td>\n",
              "      <td>9.0</td>\n",
              "      <td>8.3</td>\n",
              "      <td>8.6</td>\n",
              "      <td>8.3</td>\n",
              "      <td>9.0</td>\n",
              "      <td>8.5</td>\n",
              "      <td>8.4</td>\n",
              "      <td>7.9</td>\n",
              "      <td>NaN</td>\n",
              "    </tr>\n",
              "    <tr>\n",
              "      <th>23</th>\n",
              "      <td>8.7</td>\n",
              "      <td>8.2</td>\n",
              "      <td>8.1</td>\n",
              "      <td>8.8</td>\n",
              "      <td>8.8</td>\n",
              "      <td>8.6</td>\n",
              "      <td>8.9</td>\n",
              "      <td>8.8</td>\n",
              "      <td>8.5</td>\n",
              "      <td>NaN</td>\n",
              "    </tr>\n",
              "    <tr>\n",
              "      <th>24</th>\n",
              "      <td>8.9</td>\n",
              "      <td>8.3</td>\n",
              "      <td>8.2</td>\n",
              "      <td>9.2</td>\n",
              "      <td>9.1</td>\n",
              "      <td>8.8</td>\n",
              "      <td>9.1</td>\n",
              "      <td>8.9</td>\n",
              "      <td>8.7</td>\n",
              "      <td>NaN</td>\n",
              "    </tr>\n",
              "    <tr>\n",
              "      <th>25</th>\n",
              "      <td>NaN</td>\n",
              "      <td>NaN</td>\n",
              "      <td>8.9</td>\n",
              "      <td>NaN</td>\n",
              "      <td>NaN</td>\n",
              "      <td>9.3</td>\n",
              "      <td>NaN</td>\n",
              "      <td>NaN</td>\n",
              "      <td>NaN</td>\n",
              "      <td>NaN</td>\n",
              "    </tr>\n",
              "  </tbody>\n",
              "</table>\n",
              "</div>"
            ],
            "text/plain": [
              "epseason   1    2    3    4    5    6    7    8    9    10\n",
              "epnum                                                     \n",
              "1         8.4  8.5  8.5  9.1  8.9  8.8  8.4  8.7  8.6  8.5\n",
              "2         8.1  8.3  9.0  8.1  9.0  8.3  8.4  9.1  8.6  8.8\n",
              "3         8.2  8.4  8.1  8.5  8.8  8.3  8.2  8.7  8.3  8.8\n",
              "4         8.2  8.0  8.1  8.3  8.3  8.6  8.2  9.3  8.2  8.4\n",
              "5         8.5  8.3  8.2  8.4  8.8  8.2  8.2  8.2  8.5  8.3\n",
              "6         8.2  8.6  9.1  8.6  8.1  8.6  8.9  8.6  8.4  8.2\n",
              "7         9.0  9.0  8.4  8.8  8.4  8.4  8.5  8.0  8.7  8.3\n",
              "8         8.2  8.5  8.4  9.1  9.2  8.6  8.2  8.8  8.8  8.9\n",
              "9         8.3  8.0  9.0  8.0  9.1  9.2  8.2  9.3  8.2  8.6\n",
              "10        8.1  8.1  8.2  8.1  8.2  8.6  8.6  8.1  7.6  8.0\n",
              "11        8.3  8.2  8.6  8.5  9.1  8.2  8.6  8.1  8.1  9.0\n",
              "12        8.3  8.7  8.3  9.4  8.3  8.1  8.7  8.6  8.0  8.9\n",
              "13        8.7  8.8  8.3  8.3  8.2  8.3  8.5  8.6  8.2  8.5\n",
              "14        8.3  9.4  7.9  8.3  9.7  8.6  8.6  8.3  8.3  8.7\n",
              "15        8.3  8.9  8.6  8.5  8.6  8.6  8.5  8.4  8.4  8.6\n",
              "16        8.2  8.6  9.1  8.3  8.6  8.6  8.7  8.3  8.3  8.9\n",
              "17        8.5  8.4  8.3  8.7  8.5  9.1  8.4  8.2  8.5  9.5\n",
              "18        8.9  8.5  8.5  8.4  8.1  8.4  8.5  8.2  8.6  9.7\n",
              "19        8.2  8.6  8.2  8.7  8.8  8.4  8.7  7.5  8.2  NaN\n",
              "20        8.0  8.2  8.2  8.6  8.4  7.5  8.5  7.5  8.3  NaN\n",
              "21        8.0  8.2  8.8  7.3  8.6  8.6  7.5  8.2  8.2  NaN\n",
              "22        8.4  9.0  8.3  8.6  8.3  9.0  8.5  8.4  7.9  NaN\n",
              "23        8.7  8.2  8.1  8.8  8.8  8.6  8.9  8.8  8.5  NaN\n",
              "24        8.9  8.3  8.2  9.2  9.1  8.8  9.1  8.9  8.7  NaN\n",
              "25        NaN  NaN  8.9  NaN  NaN  9.3  NaN  NaN  NaN  NaN"
            ]
          },
          "metadata": {
            "tags": []
          },
          "execution_count": 47
        }
      ]
    },
    {
      "cell_type": "code",
      "metadata": {
        "id": "jxddBLJ17HSy",
        "colab_type": "code",
        "outputId": "5c49fdff-ede4-4c9b-856d-246597be9763",
        "colab": {
          "base_uri": "https://localhost:8080/",
          "height": 367
        }
      },
      "source": [
        "# create a matrix of the pt and invert\n",
        "ratings_matrix = pt.values\n",
        "ratings_matrix[::-1]"
      ],
      "execution_count": 49,
      "outputs": [
        {
          "output_type": "execute_result",
          "data": {
            "text/plain": [
              "array([[nan, nan, 8.9, nan, nan, 9.3, nan, nan, nan, nan],\n",
              "       [8.9, 8.3, 8.2, 9.2, 9.1, 8.8, 9.1, 8.9, 8.7, nan],\n",
              "       [8.7, 8.2, 8.1, 8.8, 8.8, 8.6, 8.9, 8.8, 8.5, nan],\n",
              "       [8.4, 9. , 8.3, 8.6, 8.3, 9. , 8.5, 8.4, 7.9, nan],\n",
              "       [8. , 8.2, 8.8, 7.3, 8.6, 8.6, 7.5, 8.2, 8.2, nan],\n",
              "       [8. , 8.2, 8.2, 8.6, 8.4, 7.5, 8.5, 7.5, 8.3, nan],\n",
              "       [8.2, 8.6, 8.2, 8.7, 8.8, 8.4, 8.7, 7.5, 8.2, nan],\n",
              "       [8.9, 8.5, 8.5, 8.4, 8.1, 8.4, 8.5, 8.2, 8.6, 9.7],\n",
              "       [8.5, 8.4, 8.3, 8.7, 8.5, 9.1, 8.4, 8.2, 8.5, 9.5],\n",
              "       [8.2, 8.6, 9.1, 8.3, 8.6, 8.6, 8.7, 8.3, 8.3, 8.9],\n",
              "       [8.3, 8.9, 8.6, 8.5, 8.6, 8.6, 8.5, 8.4, 8.4, 8.6],\n",
              "       [8.3, 9.4, 7.9, 8.3, 9.7, 8.6, 8.6, 8.3, 8.3, 8.7],\n",
              "       [8.7, 8.8, 8.3, 8.3, 8.2, 8.3, 8.5, 8.6, 8.2, 8.5],\n",
              "       [8.3, 8.7, 8.3, 9.4, 8.3, 8.1, 8.7, 8.6, 8. , 8.9],\n",
              "       [8.3, 8.2, 8.6, 8.5, 9.1, 8.2, 8.6, 8.1, 8.1, 9. ],\n",
              "       [8.1, 8.1, 8.2, 8.1, 8.2, 8.6, 8.6, 8.1, 7.6, 8. ],\n",
              "       [8.3, 8. , 9. , 8. , 9.1, 9.2, 8.2, 9.3, 8.2, 8.6],\n",
              "       [8.2, 8.5, 8.4, 9.1, 9.2, 8.6, 8.2, 8.8, 8.8, 8.9],\n",
              "       [9. , 9. , 8.4, 8.8, 8.4, 8.4, 8.5, 8. , 8.7, 8.3],\n",
              "       [8.2, 8.6, 9.1, 8.6, 8.1, 8.6, 8.9, 8.6, 8.4, 8.2],\n",
              "       [8.5, 8.3, 8.2, 8.4, 8.8, 8.2, 8.2, 8.2, 8.5, 8.3],\n",
              "       [8.2, 8. , 8.1, 8.3, 8.3, 8.6, 8.2, 9.3, 8.2, 8.4],\n",
              "       [8.2, 8.4, 8.1, 8.5, 8.8, 8.3, 8.2, 8.7, 8.3, 8.8],\n",
              "       [8.1, 8.3, 9. , 8.1, 9. , 8.3, 8.4, 9.1, 8.6, 8.8],\n",
              "       [8.4, 8.5, 8.5, 9.1, 8.9, 8.8, 8.4, 8.7, 8.6, 8.5]])"
            ]
          },
          "metadata": {
            "tags": []
          },
          "execution_count": 49
        }
      ]
    },
    {
      "cell_type": "code",
      "metadata": {
        "id": "XW9KkokM49_X",
        "colab_type": "code",
        "outputId": "a699be7f-baa5-4bdb-e862-b7c467d22e1d",
        "colab": {
          "base_uri": "https://localhost:8080/",
          "height": 608
        }
      },
      "source": [
        "# create heatmap\n",
        "\n",
        "# figure, size, style\n",
        "fig = plt.figure(figsize=(10,10))\n",
        "plt.style.use('dark_background')\n",
        "r = sns.heatmap(ratings_matrix[::-1], cmap='Blues')\n",
        "plt.xticks([]),plt.yticks([])\n",
        "\n",
        "#choose font\n",
        "font = {'family' : 'normal',\n",
        "        'weight' : 'normal',\n",
        "        'size'   : 10}\n",
        "\n",
        "plt.rc('font', **font)\n",
        "r.set_title(\"The one with all the ratings\")\n",
        "\n",
        "#plt.savefig('The One With All The Ratings.png')"
      ],
      "execution_count": 50,
      "outputs": [
        {
          "output_type": "execute_result",
          "data": {
            "text/plain": [
              "Text(0.5, 1.0, 'The one with all the ratings')"
            ]
          },
          "metadata": {
            "tags": []
          },
          "execution_count": 50
        },
        {
          "output_type": "display_data",
          "data": {
            "image/png": "[encoded data removed]",
            "text/plain": [
              "<Figure size 720x720 with 2 Axes>"
            ]
          },
          "metadata": {
            "tags": []
          }
        }
      ]
    },
    {
      "cell_type": "code",
      "metadata": {
        "id": "OLGh3JhsGYP1",
        "colab_type": "code",
        "outputId": "9cc3894b-08ac-4e37-a015-481802c6d47f",
        "colab": {
          "base_uri": "https://localhost:8080/",
          "height": 73
        }
      },
      "source": [
        "# define codes for women only storylines\n",
        "women_codes = [3,4,5,34,35,45,345]\n",
        "\n",
        "# find number of plots and avg rating\n",
        "women_df = df[df.dynamics.isin(women_codes)]\n",
        "print('The mean rating for plots with women:',women_df.rating.mean())\n",
        "print('There are', women_df.rating.count(), 'plots with women')\n",
        "\n",
        "\n",
        "# define codes for men only storylines\n",
        "men_codes = [1,2,6,12,16,26,126]\n",
        "\n",
        "# find number of plots and avg rating\n",
        "men_df = df[df.dynamics.isin(men_codes)]\n",
        "print('The mean rating for plots with men:',men_df.rating.mean())\n",
        "print('There are', men_df.rating.count(), 'plots with men')"
      ],
      "execution_count": 51,
      "outputs": [
        {
          "output_type": "stream",
          "text": [
            "The mean rating for plots with women: 8.453521126760558\n",
            "There are 213 plots with women\n",
            "The mean rating for plots with men: 8.478037383177565\n",
            "There are 214 plots with men\n"
          ],
          "name": "stdout"
        }
      ]
    },
    {
      "cell_type": "code",
      "metadata": {
        "id": "xb2h_So4qAa9",
        "colab_type": "code",
        "colab": {
          "base_uri": "https://localhost:8080/",
          "height": 582
        },
        "outputId": "bc214577-a0b9-4c59-a01e-df50c1c2f221"
      },
      "source": [
        "# make a pie chart of the number of storylines for men and women\n",
        "\n",
        "plt.figure(figsize = (10,10))\n",
        "plt.pie([women_df.rating.count(),men_df.rating.count()], colors = colors);\n"
      ],
      "execution_count": 52,
      "outputs": [
        {
          "output_type": "display_data",
          "data": {
            "image/png": "[encoded data removed]",
            "text/plain": [
              "<Figure size 720x720 with 1 Axes>"
            ]
          },
          "metadata": {
            "tags": []
          }
        }
      ]
    },
    {
      "cell_type": "code",
      "metadata": {
        "id": "_tzsrFXZpM5j",
        "colab_type": "code",
        "outputId": "0600a117-9578-4f91-b14e-c6e96a0ac277",
        "colab": {
          "base_uri": "https://localhost:8080/",
          "height": 899
        }
      },
      "source": [
        "#histogram of women's ratings\n",
        "\n",
        "\n",
        "\n",
        "\n",
        "women_df.hist('rating', color = '#BC312A', figsize =(10,7))\n",
        "plt.axvline(women_df.rating.mean(), color = 'white', linewidth = 5)\n",
        "plt.yticks([0,20,40,60, 80])\n",
        "plt.grid(False)\n",
        "plt.box(False)\n",
        "plt.title('women')\n",
        "print(women_df.rating.mean())\n",
        "\n",
        "\n",
        "#histogram of men's ratings\n",
        "men_df.hist('rating',  color = '#FFDC00', figsize =(10,7))\n",
        "plt.axvline(men_df.rating.mean(), color = 'white', linewidth = 5)\n",
        "plt.yticks([0,20,40,60, 80])\n",
        "plt.grid(False)\n",
        "plt.box(False)\n",
        "plt.title('men')\n",
        "print(men_df.rating.mean())"
      ],
      "execution_count": 73,
      "outputs": [
        {
          "output_type": "stream",
          "text": [
            "8.453521126760558\n",
            "8.478037383177565\n"
          ],
          "name": "stdout"
        },
        {
          "output_type": "display_data",
          "data": {
            "image/png": "[encoded data removed]",
            "text/plain": [
              "<Figure size 720x504 with 1 Axes>"
            ]
          },
          "metadata": {
            "tags": []
          }
        },
        {
          "output_type": "display_data",
          "data": {
            "image/png": "[encoded data removed]",
            "text/plain": [
              "<Figure size 720x504 with 1 Axes>"
            ]
          },
          "metadata": {
            "tags": []
          }
        }
      ]
    },
    {
      "cell_type": "code",
      "metadata": {
        "id": "uCEKsMRlNPmb",
        "colab_type": "code",
        "outputId": "14aba61c-0cf0-4a62-ce84-1229cc87fef7",
        "colab": {
          "base_uri": "https://localhost:8080/",
          "height": 59
        }
      },
      "source": [
        "#chandler stats\n",
        "\n",
        "\n",
        "# this is so I don't have to go in and change all of the df2 to df\n",
        "df2 = df\n",
        "\n",
        "chandler_codes = [1,12,13,14,15,16,123,124,125,126,134,135,136,145,146,156]\n",
        "chandler12_codes = [12,13,14,15,16]\n",
        "chandler_df = df2[df2.dynamics.isin(chandler_codes)]\n",
        "chandler_duo = df2[df2.dynamics.isin(chandler12_codes)]\n",
        "chandler_only = df2[df2['dynamics'] == 1]\n",
        "\n",
        "\n",
        "print('The mean rating for eps with plots around chandler:',chandler_duo.rating.mean())\n",
        "print('The mean rating for eps with individual plots around chandler:',chandler_only.rating.mean())\n",
        "print('Chandler appears in', chandler_duo.rating.count(), 'plotlines')"
      ],
      "execution_count": 74,
      "outputs": [
        {
          "output_type": "stream",
          "text": [
            "The mean rating for eps with plots around chandler: 8.60080645161291\n",
            "The mean rating for eps with individual plots around chandler: 8.326470588235294\n",
            "Chandler appears in 124 plotlines\n"
          ],
          "name": "stdout"
        }
      ]
    },
    {
      "cell_type": "code",
      "metadata": {
        "id": "fadnpZySG3EK",
        "colab_type": "code",
        "outputId": "230f3a5a-5d8c-484e-a918-63733e2e19eb",
        "colab": {
          "base_uri": "https://localhost:8080/",
          "height": 465
        }
      },
      "source": [
        "# chandler only hist\n",
        "chandler_only.hist('rating', color = '#BC312A', figsize =(10,7))\n",
        "\n",
        "plt.style.use('dark_background')\n",
        "plt.axvline(chandler_only.rating.mean(), color = 'white', linewidth = 5)\n",
        "plt.xlabel('Chandler', fontsize = 15)\n",
        "plt.grid(False)\n",
        "plt.box(False)\n",
        "plt.xticks([7.2,7.6,8.0,8.4,8.8,9.2,9.6])\n",
        "plt.yticks([0,5,10,15])\n",
        "\n",
        "plt.title('')\n",
        "print(chandler_only.rating.mean())\n",
        "#plt.savefig('chandler ratings.png')"
      ],
      "execution_count": 75,
      "outputs": [
        {
          "output_type": "stream",
          "text": [
            "8.326470588235294\n"
          ],
          "name": "stdout"
        },
        {
          "output_type": "display_data",
          "data": {
            "image/png": "[encoded data removed]",
            "text/plain": [
              "<Figure size 720x504 with 1 Axes>"
            ]
          },
          "metadata": {
            "tags": []
          }
        }
      ]
    },
    {
      "cell_type": "code",
      "metadata": {
        "id": "ox5QVYsG1pIj",
        "colab_type": "code",
        "outputId": "39d40f61-e8cc-473d-a69f-309fd4655f93",
        "colab": {
          "base_uri": "https://localhost:8080/",
          "height": 465
        }
      },
      "source": [
        "# chandler duo hist\n",
        "\n",
        "chandler_duo.hist('rating', color = '#BC312A', figsize =(10,7))\n",
        "\n",
        "plt.style.use('dark_background')\n",
        "plt.axvline(chandler_duo.rating.mean(), color = 'white', linewidth = 5)\n",
        "plt.xlabel('Chandler duo', fontsize = 15)\n",
        "plt.grid(False)\n",
        "plt.box(False)\n",
        "plt.xticks([7.2,7.6,8.0,8.4,8.8,9.2,9.6])\n",
        "plt.yticks([0,10,20,30,35])\n",
        "\n",
        "plt.title('')\n",
        "print(chandler_duo.rating.mean())\n",
        "#plt.savefig('chandler duo ratings.png')"
      ],
      "execution_count": 76,
      "outputs": [
        {
          "output_type": "stream",
          "text": [
            "8.60080645161291\n"
          ],
          "name": "stdout"
        },
        {
          "output_type": "display_data",
          "data": {
            "image/png": "[encoded data removed]",
            "text/plain": [
              "<Figure size 720x504 with 1 Axes>"
            ]
          },
          "metadata": {
            "tags": []
          }
        }
      ]
    },
    {
      "cell_type": "code",
      "metadata": {
        "id": "B_b3-W29TIxY",
        "colab_type": "code",
        "outputId": "c78721fa-48e4-4867-b8f9-28bdb651d479",
        "colab": {
          "base_uri": "https://localhost:8080/",
          "height": 59
        }
      },
      "source": [
        "# joey stats\n",
        "\n",
        "joey_codes = [2,12,23,24,25,26,123,124,125,126,234,235,236,245,246,256]\n",
        "joey12_codes = [12,23,24,25,26]\n",
        "\n",
        "joey_only = df2[df2['dynamics'] == 2]\n",
        "joey_duo = df2[df2.dynamics.isin(joey12_codes)]\n",
        "joey_df = df2[df2.dynamics.isin(joey_codes)]\n",
        "\n",
        "print('The mean rating for eps with plots around joey:',joey_duo.rating.mean())\n",
        "print('The mean rating for eps with individual plots around joey:',joey_only.rating.mean())\n",
        "print('Joey appears in', joey_duo.rating.count(), 'plotlines')"
      ],
      "execution_count": 77,
      "outputs": [
        {
          "output_type": "stream",
          "text": [
            "The mean rating for eps with plots around joey: 8.531067961165052\n",
            "The mean rating for eps with individual plots around joey: 8.511111111111113\n",
            "Joey appears in 103 plotlines\n"
          ],
          "name": "stdout"
        }
      ]
    },
    {
      "cell_type": "code",
      "metadata": {
        "id": "dVy0_q4EMZXY",
        "colab_type": "code",
        "outputId": "077c3faf-ce41-4f58-c9a3-2928cbe664d6",
        "colab": {
          "base_uri": "https://localhost:8080/",
          "height": 465
        }
      },
      "source": [
        "# joey only hist\n",
        "\n",
        "joey_only.hist('rating', color = '#FFDC00' , figsize =(10,7))\n",
        "\n",
        "plt.style.use('dark_background')\n",
        "plt.axvline(joey_only.rating.mean(), color = 'white', linewidth = 5)\n",
        "plt.xlabel('joey', fontsize = 15)\n",
        "plt.grid(False)\n",
        "plt.box(False)\n",
        "plt.xticks([7.2,7.6,8.0,8.4,8.8,9.2,9.6])\n",
        "plt.yticks([0,5,10,15])\n",
        "\n",
        "plt.title('')\n",
        "print(joey_only.rating.mean())\n",
        "#plt.savefig('joey ratings.png')"
      ],
      "execution_count": 78,
      "outputs": [
        {
          "output_type": "stream",
          "text": [
            "8.511111111111113\n"
          ],
          "name": "stdout"
        },
        {
          "output_type": "display_data",
          "data": {
            "image/png": "[encoded data removed]",
            "text/plain": [
              "<Figure size 720x504 with 1 Axes>"
            ]
          },
          "metadata": {
            "tags": []
          }
        }
      ]
    },
    {
      "cell_type": "code",
      "metadata": {
        "id": "k6VHM5LZ1-3L",
        "colab_type": "code",
        "outputId": "a7ade34c-adb5-407d-ce7e-8c069b9687b3",
        "colab": {
          "base_uri": "https://localhost:8080/",
          "height": 465
        }
      },
      "source": [
        "# joey duo hist\n",
        "\n",
        "joey_duo.hist('rating', color = '#FFDC00', figsize =(10,7))\n",
        "\n",
        "plt.style.use('dark_background')\n",
        "plt.axvline(joey_duo.rating.mean(), color = 'white', linewidth = 5)\n",
        "plt.xlabel('joey duo', fontsize = 15)\n",
        "plt.grid(False)\n",
        "plt.box(False)\n",
        "plt.xticks([7.2,7.6,8.0,8.4,8.8,9.2,9.6])\n",
        "plt.yticks([0,10,20,30,35])\n",
        "\n",
        "\n",
        "plt.title('')\n",
        "print(joey_duo.rating.mean())\n",
        "plt.savefig('joey duo ratings.png')"
      ],
      "execution_count": 79,
      "outputs": [
        {
          "output_type": "stream",
          "text": [
            "8.531067961165052\n"
          ],
          "name": "stdout"
        },
        {
          "output_type": "display_data",
          "data": {
            "image/png": "[encoded data removed]",
            "text/plain": [
              "<Figure size 720x504 with 1 Axes>"
            ]
          },
          "metadata": {
            "tags": []
          }
        }
      ]
    },
    {
      "cell_type": "code",
      "metadata": {
        "id": "k_K2alzOAoR5",
        "colab_type": "code",
        "outputId": "d60283bb-55b0-4f2b-cbdd-c6bd5dab009f",
        "colab": {
          "base_uri": "https://localhost:8080/",
          "height": 59
        }
      },
      "source": [
        "# monica stats \n",
        "monica_codes = [3,13,23,34,35,36,123,134,135,136,234,235,236,345,346,356]\n",
        "monica12_codes = [13,23,34,35,36]\n",
        "\n",
        "monica_only = df2[df2['dynamics'] == 3]\n",
        "monica_duo = df2[df2.dynamics.isin(monica12_codes)]\n",
        "monica_df = df2[df2.dynamics.isin(monica_codes)]\n",
        "print('The mean rating for eps with plots around monica:',monica_duo.rating.mean())\n",
        "print('The mean rating for eps with individual plots around monica:',monica_only.rating.mean())\n",
        "print('Monica appears in', monica_duo.rating.count(), 'plotlines')"
      ],
      "execution_count": 80,
      "outputs": [
        {
          "output_type": "stream",
          "text": [
            "The mean rating for eps with plots around monica: 8.552884615384617\n",
            "The mean rating for eps with individual plots around monica: 8.43809523809524\n",
            "Monica appears in 104 plotlines\n"
          ],
          "name": "stdout"
        }
      ]
    },
    {
      "cell_type": "code",
      "metadata": {
        "id": "RLFEmyq7uSBL",
        "colab_type": "code",
        "outputId": "158658e6-f19e-41e6-c4a5-2bb42e3274ec",
        "colab": {
          "base_uri": "https://localhost:8080/",
          "height": 465
        }
      },
      "source": [
        "# monica only hist\n",
        "\n",
        "monica_only.hist('rating', color = '#42A2D6' , figsize =(10,7))\n",
        "\n",
        "plt.style.use('dark_background')\n",
        "plt.axvline(monica_only.rating.mean(), color = 'white', linewidth = 5)\n",
        "plt.xlabel('monica', fontsize = 15)\n",
        "\n",
        "plt.grid(False)\n",
        "plt.box(False)\n",
        "plt.xticks([7.2,7.6,8.0,8.4,8.8,9.2,9.6])\n",
        "plt.yticks([0,5,10,15])\n",
        "\n",
        "\n",
        "plt.title('')\n",
        "print(monica_only.rating.mean())\n",
        "#plt.savefig('monica ratings.png')"
      ],
      "execution_count": 81,
      "outputs": [
        {
          "output_type": "stream",
          "text": [
            "8.43809523809524\n"
          ],
          "name": "stdout"
        },
        {
          "output_type": "display_data",
          "data": {
            "image/png": "[encoded data removed]",
            "text/plain": [
              "<Figure size 720x504 with 1 Axes>"
            ]
          },
          "metadata": {
            "tags": []
          }
        }
      ]
    },
    {
      "cell_type": "code",
      "metadata": {
        "id": "CJHikJFE2Nmx",
        "colab_type": "code",
        "outputId": "f40eef79-caf1-4401-cf19-16afdde15398",
        "colab": {
          "base_uri": "https://localhost:8080/",
          "height": 465
        }
      },
      "source": [
        "# monica duo hist\n",
        "\n",
        "monica_duo.hist('rating', color = '#42A2D6', figsize =(10,7))\n",
        "\n",
        "plt.style.use('dark_background')\n",
        "plt.axvline(monica_duo.rating.mean(), color = 'white', linewidth = 5)\n",
        "plt.xlabel('monica duo', fontsize = 15)\n",
        "plt.grid(False)\n",
        "plt.box(False)\n",
        "plt.xticks([7.2,7.6,8.0,8.4,8.8,9.2,9.6])\n",
        "plt.yticks([0,10,20,30,35])\n",
        "plt.title('')\n",
        "\n",
        "print(monica_duo.rating.mean())\n",
        "#plt.savefig('monica duo ratings.png')"
      ],
      "execution_count": 82,
      "outputs": [
        {
          "output_type": "stream",
          "text": [
            "8.552884615384617\n"
          ],
          "name": "stdout"
        },
        {
          "output_type": "display_data",
          "data": {
            "image/png": "[encoded data removed]",
            "text/plain": [
              "<Figure size 720x504 with 1 Axes>"
            ]
          },
          "metadata": {
            "tags": []
          }
        }
      ]
    },
    {
      "cell_type": "code",
      "metadata": {
        "id": "Wi-9W6UQBGJm",
        "colab_type": "code",
        "outputId": "9a4b68e7-97ca-46f6-d21e-272fa324fd87",
        "colab": {
          "base_uri": "https://localhost:8080/",
          "height": 59
        }
      },
      "source": [
        "# phoebe stats\n",
        "\n",
        "phoebe_codes = [4,14,24,34,45,46,124,134,145,146,234,245,246,345,346,456]\n",
        "phoebe12_codes = [14,24,34,45,46]\n",
        "\n",
        "phoebe_only = df2[df2['dynamics'] == 4]\n",
        "phoebe_duo = df2[df2.dynamics.isin(phoebe12_codes)]\n",
        "phoebe_df = df2[df2.dynamics.isin(phoebe_codes)]\n",
        "\n",
        "print('The mean rating for eps with plots around phoebe:',phoebe_duo.rating.mean())\n",
        "print('The mean rating for eps with individual plots around phoebe:',phoebe_only.rating.mean())\n",
        "print('phoebe appears in', phoebe_duo.rating.count(), 'plotlines')"
      ],
      "execution_count": 83,
      "outputs": [
        {
          "output_type": "stream",
          "text": [
            "The mean rating for eps with plots around phoebe: 8.486666666666665\n",
            "The mean rating for eps with individual plots around phoebe: 8.483076923076922\n",
            "phoebe appears in 75 plotlines\n"
          ],
          "name": "stdout"
        }
      ]
    },
    {
      "cell_type": "code",
      "metadata": {
        "id": "ogcoI2-SunNQ",
        "colab_type": "code",
        "outputId": "c4594704-3c6f-494c-cd3c-f2e769db895b",
        "colab": {
          "base_uri": "https://localhost:8080/",
          "height": 465
        }
      },
      "source": [
        "# phoebe only hist\n",
        "\n",
        "phoebe_only.hist('rating', color = '#42A2D6', figsize =(10,7))\n",
        "\n",
        "plt.style.use('dark_background')\n",
        "plt.axvline(phoebe_only.rating.mean(), color = 'white', linewidth = 5)\n",
        "plt.xlabel('phoebe', fontsize = 15)\n",
        "#plt.text(8.34,11.1,round(chandler_only.rating.mean(),2))\n",
        "plt.grid(False)\n",
        "plt.box(False)\n",
        "plt.xticks([7.2,7.6,8.0,8.4,8.8,9.2,9.6])\n",
        "plt.yticks([0,5,10,15])\n",
        "plt.title('')\n",
        "\n",
        "print(phoebe_only.rating.mean())\n",
        "#plt.savefig('phoebe ratings.png')"
      ],
      "execution_count": 84,
      "outputs": [
        {
          "output_type": "stream",
          "text": [
            "8.483076923076922\n"
          ],
          "name": "stdout"
        },
        {
          "output_type": "display_data",
          "data": {
            "image/png": "[encoded data removed]",
            "text/plain": [
              "<Figure size 720x504 with 1 Axes>"
            ]
          },
          "metadata": {
            "tags": []
          }
        }
      ]
    },
    {
      "cell_type": "code",
      "metadata": {
        "id": "h0Vqg0VS2jzb",
        "colab_type": "code",
        "outputId": "3c233637-8a18-4d58-d5d3-35c36a86e87d",
        "colab": {
          "base_uri": "https://localhost:8080/",
          "height": 465
        }
      },
      "source": [
        "# phoebe duo hist\n",
        "\n",
        "phoebe_duo.hist('rating', color = '#42A2D6', figsize =(10,7))\n",
        "\n",
        "plt.style.use('dark_background')\n",
        "plt.axvline(phoebe_duo.rating.mean(), color = 'white', linewidth = 5)\n",
        "plt.xlabel('phoebe duo', fontsize = 15)\n",
        "plt.grid(False)\n",
        "plt.box(False)\n",
        "plt.xticks([7.2,7.6,8.0,8.4,8.8,9.2,9.6])\n",
        "plt.yticks([0,10,20,30,35])\n",
        "plt.title('')\n",
        "\n",
        "print(phoebe_duo.rating.mean())\n",
        "#plt.savefig('phoebe duo ratings.png')"
      ],
      "execution_count": 85,
      "outputs": [
        {
          "output_type": "stream",
          "text": [
            "8.486666666666665\n"
          ],
          "name": "stdout"
        },
        {
          "output_type": "display_data",
          "data": {
            "image/png": "[encoded data removed]",
            "text/plain": [
              "<Figure size 720x504 with 1 Axes>"
            ]
          },
          "metadata": {
            "tags": []
          }
        }
      ]
    },
    {
      "cell_type": "code",
      "metadata": {
        "id": "msUIhc0TBH_8",
        "colab_type": "code",
        "outputId": "3cd13aed-3c2f-408b-978e-ca94fe5cddb8",
        "colab": {
          "base_uri": "https://localhost:8080/",
          "height": 59
        }
      },
      "source": [
        "# rachel stats\n",
        "\n",
        "rachel_codes = [5,15,25,35,45,56,125,135,145,156,235,245,256,345,356,456]\n",
        "rachel12_codes = [15,25,35,45,56]\n",
        "\n",
        "rachel_only = df2[df2['dynamics'] == 5]\n",
        "rachel_duo = df2[df2.dynamics.isin(rachel12_codes)]\n",
        "rachel_df = df2[df2.dynamics.isin(rachel_codes)]\n",
        "\n",
        "print('The mean rating for eps with plots around rachel:',rachel_duo.rating.mean())\n",
        "print('The mean rating for eps with individual plots around rachel:',rachel_only.rating.mean())\n",
        "print('rachel appears in', rachel_duo.rating.count(), 'plotlines')"
      ],
      "execution_count": 86,
      "outputs": [
        {
          "output_type": "stream",
          "text": [
            "The mean rating for eps with plots around rachel: 8.567424242424249\n",
            "The mean rating for eps with individual plots around rachel: 8.389361702127662\n",
            "rachel appears in 132 plotlines\n"
          ],
          "name": "stdout"
        }
      ]
    },
    {
      "cell_type": "code",
      "metadata": {
        "id": "V8jPn2TkuunD",
        "colab_type": "code",
        "outputId": "66677f7f-fca4-4d45-8f72-aa28c3738d8e",
        "colab": {
          "base_uri": "https://localhost:8080/",
          "height": 465
        }
      },
      "source": [
        "# rachel only hist\n",
        "\n",
        "rachel_only.hist('rating', color = '#FFDC00', figsize =(10,7))\n",
        "\n",
        "plt.style.use('dark_background')\n",
        "plt.axvline(rachel_only.rating.mean(), color = 'white', linewidth = 5)\n",
        "plt.xlabel('rachel', fontsize = 15)\n",
        "#plt.text(8.34,11.1,round(chandler_only.rating.mean(),2))\n",
        "plt.grid(False)\n",
        "plt.box(False)\n",
        "plt.xticks([7.2,7.6,8.0,8.4,8.8,9.2,9.6])\n",
        "plt.yticks([0,5,10,15])\n",
        "plt.title('')\n",
        "\n",
        "print(rachel_only.rating.mean())\n",
        "#plt.savefig('rachel ratings.png')"
      ],
      "execution_count": 87,
      "outputs": [
        {
          "output_type": "stream",
          "text": [
            "8.389361702127662\n"
          ],
          "name": "stdout"
        },
        {
          "output_type": "display_data",
          "data": {
            "image/png": "[encoded data removed]",
            "text/plain": [
              "<Figure size 720x504 with 1 Axes>"
            ]
          },
          "metadata": {
            "tags": []
          }
        }
      ]
    },
    {
      "cell_type": "code",
      "metadata": {
        "id": "bZ0LmHm522eS",
        "colab_type": "code",
        "outputId": "a0ac0843-9d96-4ae4-b620-fadae32bef95",
        "colab": {
          "base_uri": "https://localhost:8080/",
          "height": 465
        }
      },
      "source": [
        "# rachel duo hist\n",
        "\n",
        "rachel_duo.hist('rating', color = '#FFDC00', figsize =(10,7))\n",
        "\n",
        "plt.style.use('dark_background')\n",
        "plt.axvline(rachel_duo.rating.mean(), color = 'white', linewidth = 5)\n",
        "plt.xlabel('rachel duo', fontsize = 15)\n",
        "plt.grid(False)\n",
        "plt.box(False)\n",
        "plt.xticks([7.2,7.6,8.0,8.4,8.8,9.2,9.6])\n",
        "plt.yticks([0,10,20,30,35])\n",
        "plt.title('')\n",
        "\n",
        "print(rachel_duo.rating.mean())\n",
        "#plt.savefig('rachel duo ratings.png')"
      ],
      "execution_count": 88,
      "outputs": [
        {
          "output_type": "stream",
          "text": [
            "8.567424242424249\n"
          ],
          "name": "stdout"
        },
        {
          "output_type": "display_data",
          "data": {
            "image/png": "[encoded data removed]",
            "text/plain": [
              "<Figure size 720x504 with 1 Axes>"
            ]
          },
          "metadata": {
            "tags": []
          }
        }
      ]
    },
    {
      "cell_type": "code",
      "metadata": {
        "id": "rj0Ndj22BIV1",
        "colab_type": "code",
        "outputId": "05776f88-e825-4cea-8485-e98613d3ffe6",
        "colab": {
          "base_uri": "https://localhost:8080/",
          "height": 59
        }
      },
      "source": [
        "# ross stats\n",
        "\n",
        "ross_codes = [6,16,26,36,46,56,126,136,146,156,236,246,256,346,356,456]\n",
        "ross12_codes = [16,26,36,46,56]\n",
        "\n",
        "ross_only = df2[df2['dynamics'] == 6]\n",
        "ross_duo = df2[df2.dynamics.isin(ross12_codes)]\n",
        "ross_df = df2[df2.dynamics.isin(ross_codes)]\n",
        "print('The mean rating for eps with plots around ross:',ross_duo.rating.mean())\n",
        "print('The mean rating for eps with individual plots around ross:',ross_only.rating.mean())\n",
        "print('ross appears in', ross_duo.rating.count(), 'plotlines')"
      ],
      "execution_count": 89,
      "outputs": [
        {
          "output_type": "stream",
          "text": [
            "The mean rating for eps with plots around ross: 8.550000000000004\n",
            "The mean rating for eps with individual plots around ross: 8.491071428571429\n",
            "ross appears in 114 plotlines\n"
          ],
          "name": "stdout"
        }
      ]
    },
    {
      "cell_type": "code",
      "metadata": {
        "id": "QU1USuizuxw2",
        "colab_type": "code",
        "outputId": "887525af-842b-4813-ea81-373a5968780a",
        "colab": {
          "base_uri": "https://localhost:8080/",
          "height": 465
        }
      },
      "source": [
        "# ross only hist\n",
        "\n",
        "ross_only.hist('rating', color = '#BC312A', figsize =(10,7))\n",
        "\n",
        "plt.style.use('dark_background')\n",
        "plt.axvline(ross_only.rating.mean(), color = 'white', linewidth = 5)\n",
        "plt.xlabel('ross', fontsize = 15)\n",
        "plt.grid(False)\n",
        "plt.box(False)\n",
        "plt.xticks([7.2,7.6,8.0,8.4,8.8,9.2,9.6])\n",
        "plt.yticks([0,5,10,15])\n",
        "plt.title('')\n",
        "\n",
        "print(ross_only.rating.mean())\n",
        "#plt.savefig('ross ratings.png')"
      ],
      "execution_count": 90,
      "outputs": [
        {
          "output_type": "stream",
          "text": [
            "8.491071428571429\n"
          ],
          "name": "stdout"
        },
        {
          "output_type": "display_data",
          "data": {
            "image/png": "[encoded data removed]",
            "text/plain": [
              "<Figure size 720x504 with 1 Axes>"
            ]
          },
          "metadata": {
            "tags": []
          }
        }
      ]
    },
    {
      "cell_type": "code",
      "metadata": {
        "id": "z4O8WQ0U3AzW",
        "colab_type": "code",
        "outputId": "ea995a09-2873-4efe-9182-6bacc868ad43",
        "colab": {
          "base_uri": "https://localhost:8080/",
          "height": 465
        }
      },
      "source": [
        "# ross duo hist\n",
        "\n",
        "ross_duo.hist('rating', color = '#BC312A', figsize =(10,7))\n",
        "\n",
        "plt.style.use('dark_background')\n",
        "plt.axvline(ross_duo.rating.mean(), color = 'white', linewidth = 5)\n",
        "plt.xlabel('ross duo', fontsize = 15)\n",
        "plt.grid(False)\n",
        "plt.box(False)\n",
        "plt.xticks([7.2,7.6,8.0,8.4,8.8,9.2,9.6])\n",
        "plt.yticks([0,10,20,30,35,])\n",
        "plt.title('')\n",
        "\n",
        "print(ross_duo.rating.mean())\n",
        "#plt.savefig('ross duo ratings.png')"
      ],
      "execution_count": 91,
      "outputs": [
        {
          "output_type": "stream",
          "text": [
            "8.550000000000004\n"
          ],
          "name": "stdout"
        },
        {
          "output_type": "display_data",
          "data": {
            "image/png": "[encoded data removed]",
            "text/plain": [
              "<Figure size 720x504 with 1 Axes>"
            ]
          },
          "metadata": {
            "tags": []
          }
        }
      ]
    },
    {
      "cell_type": "code",
      "metadata": {
        "id": "xbC90veQD3_j",
        "colab_type": "code",
        "outputId": "74a83410-0232-4a16-e5d9-670da6a556da",
        "colab": {
          "base_uri": "https://localhost:8080/",
          "height": 101
        }
      },
      "source": [
        "# summarize stats for all the characters\n",
        "\n",
        "individual_plotline_ratings = [8.326470588235294, 8.511111111111113, 8.43809523809524, 8.483076923076922, 8.389361702127662, 8.491071428571429]\n",
        "pair_plotline_ratings = [8.60080645161291, 8.531067961165052, 8.552884615384617, 8.486666666666665, 8.567424242424249, 8.550000000000004]\n",
        "\n",
        "ratings_list = [ [i,j] for i,j in zip(individual_plotline_ratings, pair_plotline_ratings)]\n",
        "\n",
        "\n",
        "character_ratings_dict = { i:j for i,j in zip(names,ratings_list)}\n",
        "character_ratings_dict\n",
        "\n",
        "#the highest rated individual plotline character was joey\n",
        "#the lowest rated individual plotline character was chandler\n",
        "\n",
        "#the highest rated character was chandler in plots with 2 characters \n",
        "#the lowest rated character was phoebe in plots with 2 characters "
      ],
      "execution_count": 92,
      "outputs": [
        {
          "output_type": "execute_result",
          "data": {
            "text/plain": [
              "{'Chandler': [8.326470588235294, 8.60080645161291],\n",
              " 'Joey': [8.511111111111113, 8.531067961165052],\n",
              " 'Monica': [8.43809523809524, 8.552884615384617],\n",
              " 'Phoebe': [8.483076923076922, 8.486666666666665],\n",
              " 'Rachel': [8.389361702127662, 8.567424242424249],\n",
              " 'Ross': [8.491071428571429, 8.550000000000004]}"
            ]
          },
          "metadata": {
            "tags": []
          },
          "execution_count": 92
        }
      ]
    }
  ]
}