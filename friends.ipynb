{
 "cells": [
  {
   "cell_type": "markdown",
   "metadata": {},
   "source": [
    "# Imports"
   ]
  },
  {
   "cell_type": "code",
   "execution_count": 1,
   "metadata": {
    "colab": {},
    "colab_type": "code",
    "id": "3cY2ftDHBU86"
   },
   "outputs": [],
   "source": [
    "import pandas as pd\n",
    "import numpy as np\n",
    "import matplotlib.pyplot as plt\n",
    "import seaborn as sns"
   ]
  },
  {
   "cell_type": "markdown",
   "metadata": {},
   "source": [
    "# Data\n",
    "This Friends TV show dataset contains the following:\n",
    "- epseason\n",
    "- epnum\n",
    "- epname\n",
    "- rating\n",
    "- dynamics\n",
    "\n",
    "The episode dynamics are codified by numbers. The six friends are defined as follows: Chandler=1 Joey=2 Monica=3 Phoebe=4 Rachel=5 Ross=6. So, 236 is a plotline made up of Joey, Monica, and Ross while 56 is a Rachel-Ross plotline.\n",
    "\n",
    "Episode ratings are taken from IMDB: https://www.imdb.com/title/tt0108778/episodes\n",
    "\n",
    "This dataset builds on the original dataset created by Alex Albright: https://raw.githubusercontent.com/apalbright/Friends/master/raw_data/friendsdata.csv\n",
    "\n"
   ]
  },
  {
   "cell_type": "code",
   "execution_count": 97,
   "metadata": {
    "colab": {},
    "colab_type": "code",
    "id": "cDwJ0WfbBRwE"
   },
   "outputs": [],
   "source": [
    "# load data\n",
    "csv_path = 'data.csv'\n",
    "df = pd.read_csv(csv_path)"
   ]
  },
  {
   "cell_type": "code",
   "execution_count": 19,
   "metadata": {
    "colab": {
     "base_uri": "https://localhost:8080/",
     "height": 478
    },
    "colab_type": "code",
    "id": "EjdYp4ihBdLc",
    "outputId": "7862c500-491d-4452-b193-28101a8f4d68"
   },
   "outputs": [
    {
     "data": {
      "text/html": [
       "<div>\n",
       "<style scoped>\n",
       "    .dataframe tbody tr th:only-of-type {\n",
       "        vertical-align: middle;\n",
       "    }\n",
       "\n",
       "    .dataframe tbody tr th {\n",
       "        vertical-align: top;\n",
       "    }\n",
       "\n",
       "    .dataframe thead th {\n",
       "        text-align: right;\n",
       "    }\n",
       "</style>\n",
       "<table border=\"1\" class=\"dataframe\">\n",
       "  <thead>\n",
       "    <tr style=\"text-align: right;\">\n",
       "      <th></th>\n",
       "      <th>epseason</th>\n",
       "      <th>epnum</th>\n",
       "      <th>epname</th>\n",
       "      <th>rating</th>\n",
       "      <th>dynamics</th>\n",
       "    </tr>\n",
       "  </thead>\n",
       "  <tbody>\n",
       "    <tr>\n",
       "      <th>0</th>\n",
       "      <td>1</td>\n",
       "      <td>1</td>\n",
       "      <td>The One Where Monica Gets a Roommate</td>\n",
       "      <td>8.4</td>\n",
       "      <td>3</td>\n",
       "    </tr>\n",
       "    <tr>\n",
       "      <th>1</th>\n",
       "      <td>1</td>\n",
       "      <td>1</td>\n",
       "      <td>The One Where Monica Gets a Roommate</td>\n",
       "      <td>8.4</td>\n",
       "      <td>5</td>\n",
       "    </tr>\n",
       "    <tr>\n",
       "      <th>2</th>\n",
       "      <td>1</td>\n",
       "      <td>1</td>\n",
       "      <td>The One Where Monica Gets a Roommate</td>\n",
       "      <td>8.4</td>\n",
       "      <td>56</td>\n",
       "    </tr>\n",
       "    <tr>\n",
       "      <th>3</th>\n",
       "      <td>1</td>\n",
       "      <td>1</td>\n",
       "      <td>The One Where Monica Gets a Roommate</td>\n",
       "      <td>8.4</td>\n",
       "      <td>126</td>\n",
       "    </tr>\n",
       "    <tr>\n",
       "      <th>4</th>\n",
       "      <td>1</td>\n",
       "      <td>2</td>\n",
       "      <td>The One with the Sonogram at the End</td>\n",
       "      <td>8.1</td>\n",
       "      <td>3</td>\n",
       "    </tr>\n",
       "  </tbody>\n",
       "</table>\n",
       "</div>"
      ],
      "text/plain": [
       "   epseason  epnum                                epname  rating  dynamics\n",
       "0         1      1  The One Where Monica Gets a Roommate     8.4         3\n",
       "1         1      1  The One Where Monica Gets a Roommate     8.4         5\n",
       "2         1      1  The One Where Monica Gets a Roommate     8.4        56\n",
       "3         1      1  The One Where Monica Gets a Roommate     8.4       126\n",
       "4         1      2  The One with the Sonogram at the End     8.1         3"
      ]
     },
     "execution_count": 19,
     "metadata": {},
     "output_type": "execute_result"
    }
   ],
   "source": [
    "df.head()"
   ]
  },
  {
   "cell_type": "markdown",
   "metadata": {},
   "source": [
    "# Analysis"
   ]
  },
  {
   "cell_type": "markdown",
   "metadata": {},
   "source": [
    "There were 696 total plotlines in the 10 seasons/236 episodes of Friends"
   ]
  },
  {
   "cell_type": "code",
   "execution_count": 33,
   "metadata": {
    "colab": {
     "base_uri": "https://localhost:8080/",
     "height": 31
    },
    "colab_type": "code",
    "id": "Scax7bwOEfbn",
    "outputId": "0c8ba18f-c1cb-40f0-b2d0-216b99e0e894"
   },
   "outputs": [
    {
     "name": "stdout",
     "output_type": "stream",
     "text": [
      "Plotlines\n",
      "696\n",
      "Seasons\n",
      "10\n",
      "Episodes\n",
      "236\n"
     ]
    }
   ],
   "source": [
    "# 696 plotlines\n",
    "print('Plotlines')\n",
    "print(df.shape[0])\n",
    "\n",
    "# 10 seasons\n",
    "print('Seasons')\n",
    "print(df['epseason'].nunique())\n",
    "\n",
    "# 236 episodes\n",
    "print('Episodes')\n",
    "print(df['epname'].nunique())"
   ]
  },
  {
   "cell_type": "markdown",
   "metadata": {},
   "source": [
    "## Individual Storylines"
   ]
  },
  {
   "cell_type": "code",
   "execution_count": 34,
   "metadata": {
    "colab": {},
    "colab_type": "code",
    "id": "lNcKWL8PEivi"
   },
   "outputs": [],
   "source": [
    "# define names \n",
    "names = ['Chandler', 'Joey', 'Monica', 'Phoebe', 'Rachel', 'Ross']\n",
    "\n",
    "\n",
    "# define characters\n",
    "chandler = 1\n",
    "joey = 2\n",
    "monica = 3\n",
    "phoebe = 4\n",
    "rachel = 5\n",
    "ross = 6"
   ]
  },
  {
   "cell_type": "code",
   "execution_count": 38,
   "metadata": {
    "colab": {
     "base_uri": "https://localhost:8080/",
     "height": 31
    },
    "colab_type": "code",
    "id": "tJfpVTd10WvO",
    "outputId": "44a52c8b-272d-4ab2-9361-e8b31f16fdee"
   },
   "outputs": [
    {
     "name": "stdout",
     "output_type": "stream",
     "text": [
      "{'Chandler': 34, 'Joey': 54, 'Monica': 42, 'Phoebe': 65, 'Rachel': 47, 'Ross': 56}\n"
     ]
    }
   ],
   "source": [
    "# count individual storylines\n",
    "\n",
    "# create a list of codes for individuals\n",
    "individual_plotline_codes = [chandler, joey, monica, phoebe, rachel, ross]\n",
    "\n",
    "\n",
    "def find_ind_freq(l):\n",
    "    \"\"\"function to create a dict of individual storyline frequencies\"\"\"\n",
    "    \n",
    "    # empty list\n",
    "    ind_freq = []\n",
    "    \n",
    "    for i in l:\n",
    "        ind_freq.append(df[df['dynamics'] == i].count()[0])\n",
    "    \n",
    "    ind_freq_dict = dict(zip(names, ind_freq))\n",
    "  \n",
    "    return names, ind_freq, ind_freq_dict\n",
    "\n",
    "# find the individual frequencies\n",
    "names, ind_freq, ind_freq_dict =  find_ind_freq(individual_plotline_codes)\n",
    "print(ind_freq_dict)"
   ]
  },
  {
   "cell_type": "code",
   "execution_count": 39,
   "metadata": {
    "colab": {
     "base_uri": "https://localhost:8080/",
     "height": 390
    },
    "colab_type": "code",
    "id": "xTaKmRaE0Wxs",
    "outputId": "f762c30c-7270-40f6-9bed-01803144fdcd"
   },
   "outputs": [
    {
     "data": {
      "image/png": "[encoded data removed]",
      "text/plain": [
       "<Figure size 720x432 with 1 Axes>"
      ]
     },
     "metadata": {
      "needs_background": "light"
     },
     "output_type": "display_data"
    }
   ],
   "source": [
    "# plot the individual frequencies\n",
    "\n",
    "# data \n",
    "labels = names\n",
    "y_pos = np.arange(len(labels))\n",
    "frequency = find_ind_freq(individual_plotline_codes)[1]\n",
    "\n",
    "# plot and size\n",
    "fig, ax = plt.subplots(figsize=(10,6))\n",
    "plt.bar(y_pos, frequency, align='center', alpha=1)\n",
    "\n",
    "# ticks and labels\n",
    "plt.xticks(y_pos, labels)\n",
    "plt.ylabel('# Individual Plotlines')\n",
    "plt.title('Independent Character Frequency')\n",
    "for index,data in enumerate(frequency):\n",
    "    plt.text(x=index , y =data+1 , s=f\"{data}\" , fontdict=dict(fontsize=10))\n",
    "\n",
    "plt.show()"
   ]
  },
  {
   "cell_type": "markdown",
   "metadata": {},
   "source": [
    "## Pair Storylines"
   ]
  },
  {
   "cell_type": "code",
   "execution_count": 43,
   "metadata": {
    "colab": {
     "base_uri": "https://localhost:8080/",
     "height": 85
    },
    "colab_type": "code",
    "id": "oJugjFg99WHT",
    "outputId": "6028e37b-54bf-43a8-b77a-27facaed9d75"
   },
   "outputs": [
    {
     "name": "stdout",
     "output_type": "stream",
     "text": [
      "{'chandler_joey': 36, 'chandler_monica': 63, 'chandler_phoebe': 6, 'chandler_rachel': 7, 'chandler_ross': 12, 'joey_monica': 7, 'joey_phoebe': 20, 'joey_rachel': 26, 'joey_ross': 14, 'monica_phoebe': 18, 'monica_rachel': 12, 'monica_ross': 4, 'phoebe_rachel': 17, 'phoebe_ross': 14, 'rachel_ross': 70}\n"
     ]
    },
    {
     "data": {
      "text/plain": [
       "[36, 63, 6, 7, 12, 7, 20, 26, 14, 18, 12, 4, 17, 14, 70]"
      ]
     },
     "execution_count": 43,
     "metadata": {},
     "output_type": "execute_result"
    }
   ],
   "source": [
    "# define all 2 person dynamics\n",
    "pair_codes = [12,13,14,15,16,23,24,25,26,34,35,36,45,46,56]\n",
    "pair_names = ['chandler_joey', 'chandler_monica', 'chandler_phoebe','chandler_rachel', 'chandler_ross'\n",
    "                           , 'joey_monica', 'joey_phoebe', 'joey_rachel', 'joey_ross'\n",
    "                           , 'monica_phoebe', 'monica_rachel', 'monica_ross'\n",
    "                           , 'phoebe_rachel', 'phoebe_ross'\n",
    "                           , 'rachel_ross']\n",
    "\n",
    "\n",
    "def find_twop_freq(l):\n",
    "    \"\"\"function to find pair frequencies\"\"\"\n",
    "    \n",
    "    #empty list\n",
    "    twop_freq = []\n",
    "    \n",
    "    # iterate through list and get pair frequencies\n",
    "    for i in l:\n",
    "        twop_freq.append(df[df['dynamics'] == i].count()[0])\n",
    "    \n",
    "    # zip into dict with names\n",
    "    twop_freq_dict = dict(zip(pair_names, twop_freq))\n",
    "    \n",
    "    return pair_names, twop_freq, twop_freq_dict\n",
    "\n",
    "\n",
    "# find pair frequencies\n",
    "pair, two_person_freq, twop_freq_dict =  find_twop_freq(pair_codes)\n",
    "print(twop_freq_dict)\n",
    "two_person_freq"
   ]
  },
  {
   "cell_type": "code",
   "execution_count": 44,
   "metadata": {
    "colab": {
     "base_uri": "https://localhost:8080/",
     "height": 429
    },
    "colab_type": "code",
    "id": "ClKMEPVwbWEe",
    "outputId": "8ccc261f-8b8f-4309-b739-a5a0503a4748"
   },
   "outputs": [
    {
     "data": {
      "text/html": [
       "<div>\n",
       "<style scoped>\n",
       "    .dataframe tbody tr th:only-of-type {\n",
       "        vertical-align: middle;\n",
       "    }\n",
       "\n",
       "    .dataframe tbody tr th {\n",
       "        vertical-align: top;\n",
       "    }\n",
       "\n",
       "    .dataframe thead th {\n",
       "        text-align: right;\n",
       "    }\n",
       "</style>\n",
       "<table border=\"1\" class=\"dataframe\">\n",
       "  <thead>\n",
       "    <tr style=\"text-align: right;\">\n",
       "      <th></th>\n",
       "      <th>pair</th>\n",
       "      <th>freq</th>\n",
       "    </tr>\n",
       "  </thead>\n",
       "  <tbody>\n",
       "    <tr>\n",
       "      <th>14</th>\n",
       "      <td>rachel_ross</td>\n",
       "      <td>70</td>\n",
       "    </tr>\n",
       "    <tr>\n",
       "      <th>1</th>\n",
       "      <td>chandler_monica</td>\n",
       "      <td>63</td>\n",
       "    </tr>\n",
       "    <tr>\n",
       "      <th>0</th>\n",
       "      <td>chandler_joey</td>\n",
       "      <td>36</td>\n",
       "    </tr>\n",
       "    <tr>\n",
       "      <th>7</th>\n",
       "      <td>joey_rachel</td>\n",
       "      <td>26</td>\n",
       "    </tr>\n",
       "    <tr>\n",
       "      <th>6</th>\n",
       "      <td>joey_phoebe</td>\n",
       "      <td>20</td>\n",
       "    </tr>\n",
       "    <tr>\n",
       "      <th>9</th>\n",
       "      <td>monica_phoebe</td>\n",
       "      <td>18</td>\n",
       "    </tr>\n",
       "    <tr>\n",
       "      <th>12</th>\n",
       "      <td>phoebe_rachel</td>\n",
       "      <td>17</td>\n",
       "    </tr>\n",
       "    <tr>\n",
       "      <th>8</th>\n",
       "      <td>joey_ross</td>\n",
       "      <td>14</td>\n",
       "    </tr>\n",
       "    <tr>\n",
       "      <th>13</th>\n",
       "      <td>phoebe_ross</td>\n",
       "      <td>14</td>\n",
       "    </tr>\n",
       "    <tr>\n",
       "      <th>4</th>\n",
       "      <td>chandler_ross</td>\n",
       "      <td>12</td>\n",
       "    </tr>\n",
       "    <tr>\n",
       "      <th>10</th>\n",
       "      <td>monica_rachel</td>\n",
       "      <td>12</td>\n",
       "    </tr>\n",
       "    <tr>\n",
       "      <th>3</th>\n",
       "      <td>chandler_rachel</td>\n",
       "      <td>7</td>\n",
       "    </tr>\n",
       "    <tr>\n",
       "      <th>5</th>\n",
       "      <td>joey_monica</td>\n",
       "      <td>7</td>\n",
       "    </tr>\n",
       "    <tr>\n",
       "      <th>2</th>\n",
       "      <td>chandler_phoebe</td>\n",
       "      <td>6</td>\n",
       "    </tr>\n",
       "    <tr>\n",
       "      <th>11</th>\n",
       "      <td>monica_ross</td>\n",
       "      <td>4</td>\n",
       "    </tr>\n",
       "  </tbody>\n",
       "</table>\n",
       "</div>"
      ],
      "text/plain": [
       "               pair  freq\n",
       "14      rachel_ross    70\n",
       "1   chandler_monica    63\n",
       "0     chandler_joey    36\n",
       "7       joey_rachel    26\n",
       "6       joey_phoebe    20\n",
       "9     monica_phoebe    18\n",
       "12    phoebe_rachel    17\n",
       "8         joey_ross    14\n",
       "13      phoebe_ross    14\n",
       "4     chandler_ross    12\n",
       "10    monica_rachel    12\n",
       "3   chandler_rachel     7\n",
       "5       joey_monica     7\n",
       "2   chandler_phoebe     6\n",
       "11      monica_ross     4"
      ]
     },
     "execution_count": 44,
     "metadata": {},
     "output_type": "execute_result"
    }
   ],
   "source": [
    "# put the pairs/frequencies in a dataframe to sort\n",
    "\n",
    "pair_df  = pd.DataFrame(twop_freq_dict,index=twop_freq_dict.keys())\n",
    "pair_df = pair_df.iloc[0:1]\n",
    "pair_df = pair_df.T\n",
    "pair_df = pair_df.reset_index()\n",
    "pair_df.columns = [ 'pair','freq']\n",
    "pair_df = pair_df.sort_values('freq', ascending = False)\n",
    "pair_df"
   ]
  },
  {
   "cell_type": "code",
   "execution_count": 45,
   "metadata": {
    "colab": {
     "base_uri": "https://localhost:8080/",
     "height": 629
    },
    "colab_type": "code",
    "id": "_g-b37PnCFx2",
    "outputId": "49e553b7-21de-4d2b-ba9f-adbd096e2966"
   },
   "outputs": [
    {
     "data": {
      "image/png": "[encoded data removed]",
      "text/plain": [
       "<Figure size 1080x648 with 1 Axes>"
      ]
     },
     "metadata": {},
     "output_type": "display_data"
    }
   ],
   "source": [
    "# data\n",
    "labels = pair_df.pair\n",
    "y_pos = np.arange(len(labels))\n",
    "frequency = pair_df.freq\n",
    "\n",
    "# define colors\n",
    "colors = ['#BC312A', '#FFDC00' , '#42A2D6', '#BC312A', '#FFDC00' , '#42A2D6'\n",
    "          , '#BC312A', '#FFDC00' , '#42A2D6', '#BC312A', '#FFDC00' , '#42A2D6'\n",
    "          ,'#BC312A', '#FFDC00' , '#42A2D6']\n",
    "\n",
    "# figure, size, and style\n",
    "fig, ax = plt.subplots(figsize=(15,9))\n",
    "plt.style.use('dark_background')\n",
    "plt.grid(False)\n",
    "plt.box(False)\n",
    "plt.bar(y_pos, frequency, align='center', alpha=1, color = colors)\n",
    "\n",
    "# ticks and labels\n",
    "plt.xticks(y_pos, labels, rotation = 90)\n",
    "plt.ylabel('# Plotlines')\n",
    "plt.title('Two Person Plotline Frequency')\n",
    "for index,data in enumerate(frequency):\n",
    "    plt.text(x=index-0.1 , y =data+1 , s=f\"{data}\" , fontdict=dict(fontsize=8))\n",
    "\n",
    "# save file\n",
    "#plt.savefig('2pfreq.png')"
   ]
  },
  {
   "cell_type": "code",
   "execution_count": 51,
   "metadata": {
    "colab": {
     "base_uri": "https://localhost:8080/",
     "height": 71
    },
    "colab_type": "code",
    "id": "Vt9pextkfoZ_",
    "outputId": "8dda8d4a-b2e2-47eb-e98e-1c71f35e70a8"
   },
   "outputs": [
    {
     "name": "stdout",
     "output_type": "stream",
     "text": [
      "{'chandler_joey': 8.591666666666665, 'chandler_monica': 8.622222222222224, 'chandler_phoebe': 8.583333333333334, 'chandler_rachel': 8.742857142857142, 'chandler_ross': 8.441666666666666, 'joey_monica': 8.514285714285716, 'joey_phoebe': 8.5, 'joey_rachel': 8.48076923076923, 'joey_ross': 8.521428571428572, 'monica_phoebe': 8.33888888888889, 'monica_rachel': 8.55, 'monica_ross': 8.5, 'phoebe_rachel': 8.57058823529412, 'phoebe_ross': 8.514285714285716, 'rachel_ross': 8.584285714285718}\n"
     ]
    }
   ],
   "source": [
    "# didn't use this part in the project\n",
    "# find the average rating of each pair \n",
    "\n",
    "# define all 2 person dynamics\n",
    "pair_codes = [12,13,14,15,16,23,24,25,26,34,35,36,45,46,56]\n",
    "pair_names = ['chandler_joey', 'chandler_monica', 'chandler_phoebe','chandler_rachel', 'chandler_ross'\n",
    "                           , 'joey_monica', 'joey_phoebe', 'joey_rachel', 'joey_ross'\n",
    "                           , 'monica_phoebe', 'monica_rachel', 'monica_ross'\n",
    "                           , 'phoebe_rachel', 'phoebe_ross'\n",
    "                           , 'rachel_ross']\n",
    "\n",
    "\n",
    "def find_pair_rating(l):\n",
    "    \"\"\"function to find avg rating of each pair\"\"\"\n",
    "    \n",
    "    # empty list\n",
    "    ratings = []\n",
    "    \n",
    "    # iterate through list and get mean rating for each pair\n",
    "    for i in l:\n",
    "        ratings.append(df[df['dynamics'] == i].rating.mean())\n",
    "    \n",
    "    # zip into dict with pair names\n",
    "    pair_ratings_dict = dict(zip(pair_names, ratings))\n",
    "    \n",
    "    return pair_names, ratings, pair_ratings_dict\n",
    "\n",
    "print(find_pair_rating(pair_codes)[2])"
   ]
  },
  {
   "cell_type": "code",
   "execution_count": 52,
   "metadata": {
    "colab": {
     "base_uri": "https://localhost:8080/",
     "height": 429
    },
    "colab_type": "code",
    "id": "ju9SAjqVic0-",
    "outputId": "b323ac8b-dcff-48bf-c772-f3ac17e20eb0"
   },
   "outputs": [
    {
     "data": {
      "text/html": [
       "<div>\n",
       "<style scoped>\n",
       "    .dataframe tbody tr th:only-of-type {\n",
       "        vertical-align: middle;\n",
       "    }\n",
       "\n",
       "    .dataframe tbody tr th {\n",
       "        vertical-align: top;\n",
       "    }\n",
       "\n",
       "    .dataframe thead th {\n",
       "        text-align: right;\n",
       "    }\n",
       "</style>\n",
       "<table border=\"1\" class=\"dataframe\">\n",
       "  <thead>\n",
       "    <tr style=\"text-align: right;\">\n",
       "      <th></th>\n",
       "      <th>pair</th>\n",
       "      <th>rating</th>\n",
       "      <th>freq</th>\n",
       "    </tr>\n",
       "  </thead>\n",
       "  <tbody>\n",
       "    <tr>\n",
       "      <th>3</th>\n",
       "      <td>rachel_ross</td>\n",
       "      <td>8.584286</td>\n",
       "      <td>70</td>\n",
       "    </tr>\n",
       "    <tr>\n",
       "      <th>1</th>\n",
       "      <td>chandler_monica</td>\n",
       "      <td>8.622222</td>\n",
       "      <td>63</td>\n",
       "    </tr>\n",
       "    <tr>\n",
       "      <th>2</th>\n",
       "      <td>chandler_joey</td>\n",
       "      <td>8.591667</td>\n",
       "      <td>36</td>\n",
       "    </tr>\n",
       "    <tr>\n",
       "      <th>12</th>\n",
       "      <td>joey_rachel</td>\n",
       "      <td>8.480769</td>\n",
       "      <td>26</td>\n",
       "    </tr>\n",
       "    <tr>\n",
       "      <th>10</th>\n",
       "      <td>joey_phoebe</td>\n",
       "      <td>8.500000</td>\n",
       "      <td>20</td>\n",
       "    </tr>\n",
       "    <tr>\n",
       "      <th>14</th>\n",
       "      <td>monica_phoebe</td>\n",
       "      <td>8.338889</td>\n",
       "      <td>18</td>\n",
       "    </tr>\n",
       "    <tr>\n",
       "      <th>5</th>\n",
       "      <td>phoebe_rachel</td>\n",
       "      <td>8.570588</td>\n",
       "      <td>17</td>\n",
       "    </tr>\n",
       "    <tr>\n",
       "      <th>7</th>\n",
       "      <td>joey_ross</td>\n",
       "      <td>8.521429</td>\n",
       "      <td>14</td>\n",
       "    </tr>\n",
       "    <tr>\n",
       "      <th>9</th>\n",
       "      <td>phoebe_ross</td>\n",
       "      <td>8.514286</td>\n",
       "      <td>14</td>\n",
       "    </tr>\n",
       "    <tr>\n",
       "      <th>6</th>\n",
       "      <td>monica_rachel</td>\n",
       "      <td>8.550000</td>\n",
       "      <td>12</td>\n",
       "    </tr>\n",
       "    <tr>\n",
       "      <th>13</th>\n",
       "      <td>chandler_ross</td>\n",
       "      <td>8.441667</td>\n",
       "      <td>12</td>\n",
       "    </tr>\n",
       "    <tr>\n",
       "      <th>0</th>\n",
       "      <td>chandler_rachel</td>\n",
       "      <td>8.742857</td>\n",
       "      <td>7</td>\n",
       "    </tr>\n",
       "    <tr>\n",
       "      <th>8</th>\n",
       "      <td>joey_monica</td>\n",
       "      <td>8.514286</td>\n",
       "      <td>7</td>\n",
       "    </tr>\n",
       "    <tr>\n",
       "      <th>4</th>\n",
       "      <td>chandler_phoebe</td>\n",
       "      <td>8.583333</td>\n",
       "      <td>6</td>\n",
       "    </tr>\n",
       "    <tr>\n",
       "      <th>11</th>\n",
       "      <td>monica_ross</td>\n",
       "      <td>8.500000</td>\n",
       "      <td>4</td>\n",
       "    </tr>\n",
       "  </tbody>\n",
       "</table>\n",
       "</div>"
      ],
      "text/plain": [
       "               pair    rating  freq\n",
       "3       rachel_ross  8.584286    70\n",
       "1   chandler_monica  8.622222    63\n",
       "2     chandler_joey  8.591667    36\n",
       "12      joey_rachel  8.480769    26\n",
       "10      joey_phoebe  8.500000    20\n",
       "14    monica_phoebe  8.338889    18\n",
       "5     phoebe_rachel  8.570588    17\n",
       "7         joey_ross  8.521429    14\n",
       "9       phoebe_ross  8.514286    14\n",
       "6     monica_rachel  8.550000    12\n",
       "13    chandler_ross  8.441667    12\n",
       "0   chandler_rachel  8.742857     7\n",
       "8       joey_monica  8.514286     7\n",
       "4   chandler_phoebe  8.583333     6\n",
       "11      monica_ross  8.500000     4"
      ]
     },
     "execution_count": 52,
     "metadata": {},
     "output_type": "execute_result"
    }
   ],
   "source": [
    "# didn't use this part in the project \n",
    "\n",
    "# define pair rating dict\n",
    "pair_rating_dict = find_pair_rating(pair_codes)[2]\n",
    "\n",
    "\n",
    "# merge the pair rating into a new df pair_rating_df\n",
    "pair_rating_df  = pd.DataFrame(pair_rating_dict,index=pair_rating_dict.keys())\n",
    "pair_rating_df = pair_rating_df.iloc[0:1]\n",
    "pair_rating_df = pair_rating_df.T\n",
    "pair_rating_df = pair_rating_df.reset_index()\n",
    "pair_rating_df.columns = [ 'pair','rating']\n",
    "pair_rating_df = pair_rating_df.sort_values('rating', ascending = False)\n",
    "pair_rating_df\n",
    "rating_freq_df = pd.merge(pair_rating_df, pair_df)\n",
    "rating_freq_df = rating_freq_df.sort_values('freq', ascending = False)\n",
    "rating_freq_df"
   ]
  },
  {
   "cell_type": "code",
   "execution_count": 54,
   "metadata": {
    "colab": {
     "base_uri": "https://localhost:8080/",
     "height": 629
    },
    "colab_type": "code",
    "id": "5hIw6T5gi5sx",
    "outputId": "4a26b99b-5219-42cd-e59d-42f8bee1cbd0"
   },
   "outputs": [
    {
     "data": {
      "image/png": "[encoded data removed]",
      "text/plain": [
       "<Figure size 1080x648 with 1 Axes>"
      ]
     },
     "metadata": {},
     "output_type": "display_data"
    }
   ],
   "source": [
    "# didn't use this part in the project \n",
    "\n",
    "# define sorted name variable\n",
    "pair_names_sorted = pair_df.pair.to_list()\n",
    "\n",
    "# data\n",
    "labels = pair_names_sorted\n",
    "y_pos = np.arange(len(labels))\n",
    "pair_rating = rating_freq_df.rating\n",
    "\n",
    "# colors\n",
    "colors = ['#BC312A', '#FFDC00' , '#42A2D6', '#BC312A', '#FFDC00' , '#42A2D6'\n",
    "          , '#BC312A', '#FFDC00' , '#42A2D6', '#BC312A', '#FFDC00' , '#42A2D6'\n",
    "          ,'#BC312A', '#FFDC00' , '#42A2D6']\n",
    "\n",
    "# plot, size, style\n",
    "fig, ax = plt.subplots(figsize=(15,9))\n",
    "plt.style.use('dark_background')\n",
    "plt.bar(y_pos, pair_rating, align='center', alpha=1, color = colors)\n",
    "plt.grid(False)\n",
    "plt.box(False)\n",
    "\n",
    "\n",
    "# ticks and labels\n",
    "plt.xticks(y_pos, labels, rotation = 90)\n",
    "plt.ylabel('Rating')\n",
    "plt.title('Two Person Ratings');"
   ]
  },
  {
   "cell_type": "markdown",
   "metadata": {},
   "source": [
    "## Favorite Episodes"
   ]
  },
  {
   "cell_type": "code",
   "execution_count": 56,
   "metadata": {
    "colab": {
     "base_uri": "https://localhost:8080/",
     "height": 71
    },
    "colab_type": "code",
    "id": "WTYTzt8FiquU",
    "outputId": "98acf54b-5fc7-46e0-b48e-c0ca2c715d9c"
   },
   "outputs": [
    {
     "name": "stdout",
     "output_type": "stream",
     "text": [
      "The top 5 episodes are: ['The Last One: Part 2', 'The One Where Everybody Finds Out', 'The Last One: Part 1', 'The One with the Embryos', 'The One with the Prom Video']\n"
     ]
    }
   ],
   "source": [
    "# find the top 5 episodes\n",
    "\n",
    "sorted_ratings = df[['epseason','epnum','epname','rating']]\n",
    "sorted_ratings = sorted_ratings.sort_values(['rating', 'epseason','epnum'], ascending = False)\n",
    "sorted_ratings = sorted_ratings.drop_duplicates(subset=['epseason', 'epnum'], keep='first')\n",
    "\n",
    "top_five = [i for i in sorted_ratings.epname][0:5]\n",
    "print('The top 5 episodes are:',top_five)"
   ]
  },
  {
   "cell_type": "code",
   "execution_count": 57,
   "metadata": {
    "colab": {
     "base_uri": "https://localhost:8080/",
     "height": 557
    },
    "colab_type": "code",
    "id": "qDpNZtwLkgRa",
    "outputId": "0c22d48e-68e7-48be-e9d0-3c26bd2dcfe8"
   },
   "outputs": [
    {
     "data": {
      "text/html": [
       "<div>\n",
       "<style scoped>\n",
       "    .dataframe tbody tr th:only-of-type {\n",
       "        vertical-align: middle;\n",
       "    }\n",
       "\n",
       "    .dataframe tbody tr th {\n",
       "        vertical-align: top;\n",
       "    }\n",
       "\n",
       "    .dataframe thead th {\n",
       "        text-align: right;\n",
       "    }\n",
       "</style>\n",
       "<table border=\"1\" class=\"dataframe\">\n",
       "  <thead>\n",
       "    <tr style=\"text-align: right;\">\n",
       "      <th></th>\n",
       "      <th>epseason</th>\n",
       "      <th>epnum</th>\n",
       "      <th>epname</th>\n",
       "      <th>rating</th>\n",
       "    </tr>\n",
       "  </thead>\n",
       "  <tbody>\n",
       "    <tr>\n",
       "      <th>692</th>\n",
       "      <td>10</td>\n",
       "      <td>18</td>\n",
       "      <td>The Last One: Part 2</td>\n",
       "      <td>9.7</td>\n",
       "    </tr>\n",
       "    <tr>\n",
       "      <th>322</th>\n",
       "      <td>5</td>\n",
       "      <td>14</td>\n",
       "      <td>The One Where Everybody Finds Out</td>\n",
       "      <td>9.7</td>\n",
       "    </tr>\n",
       "    <tr>\n",
       "      <th>688</th>\n",
       "      <td>10</td>\n",
       "      <td>17</td>\n",
       "      <td>The Last One: Part 1</td>\n",
       "      <td>9.5</td>\n",
       "    </tr>\n",
       "    <tr>\n",
       "      <th>251</th>\n",
       "      <td>4</td>\n",
       "      <td>12</td>\n",
       "      <td>The One with the Embryos</td>\n",
       "      <td>9.4</td>\n",
       "    </tr>\n",
       "    <tr>\n",
       "      <th>116</th>\n",
       "      <td>2</td>\n",
       "      <td>14</td>\n",
       "      <td>The One with the Prom Video</td>\n",
       "      <td>9.4</td>\n",
       "    </tr>\n",
       "    <tr>\n",
       "      <th>520</th>\n",
       "      <td>8</td>\n",
       "      <td>9</td>\n",
       "      <td>The One with the Rumor</td>\n",
       "      <td>9.3</td>\n",
       "    </tr>\n",
       "    <tr>\n",
       "      <th>506</th>\n",
       "      <td>8</td>\n",
       "      <td>4</td>\n",
       "      <td>The One with the Videotape</td>\n",
       "      <td>9.3</td>\n",
       "    </tr>\n",
       "    <tr>\n",
       "      <th>430</th>\n",
       "      <td>6</td>\n",
       "      <td>25</td>\n",
       "      <td>The One with the Proposal: Part 2</td>\n",
       "      <td>9.3</td>\n",
       "    </tr>\n",
       "    <tr>\n",
       "      <th>380</th>\n",
       "      <td>6</td>\n",
       "      <td>9</td>\n",
       "      <td>The One Where Ross Got High</td>\n",
       "      <td>9.2</td>\n",
       "    </tr>\n",
       "    <tr>\n",
       "      <th>305</th>\n",
       "      <td>5</td>\n",
       "      <td>8</td>\n",
       "      <td>The One with the Thanksgivings</td>\n",
       "      <td>9.2</td>\n",
       "    </tr>\n",
       "    <tr>\n",
       "      <th>282</th>\n",
       "      <td>4</td>\n",
       "      <td>24</td>\n",
       "      <td>The One with Ross's Wedding: Part Two</td>\n",
       "      <td>9.2</td>\n",
       "    </tr>\n",
       "    <tr>\n",
       "      <th>501</th>\n",
       "      <td>8</td>\n",
       "      <td>2</td>\n",
       "      <td>The One with the Red Sweater</td>\n",
       "      <td>9.1</td>\n",
       "    </tr>\n",
       "    <tr>\n",
       "      <th>495</th>\n",
       "      <td>7</td>\n",
       "      <td>24</td>\n",
       "      <td>The One with Monica and Chandler's Wedding: Pa...</td>\n",
       "      <td>9.1</td>\n",
       "    </tr>\n",
       "    <tr>\n",
       "      <th>410</th>\n",
       "      <td>6</td>\n",
       "      <td>17</td>\n",
       "      <td>The One with Unagi</td>\n",
       "      <td>9.1</td>\n",
       "    </tr>\n",
       "    <tr>\n",
       "      <th>353</th>\n",
       "      <td>5</td>\n",
       "      <td>24</td>\n",
       "      <td>The One in Vegas: Part 2</td>\n",
       "      <td>9.1</td>\n",
       "    </tr>\n",
       "    <tr>\n",
       "      <th>312</th>\n",
       "      <td>5</td>\n",
       "      <td>11</td>\n",
       "      <td>The One with All the Resolutions</td>\n",
       "      <td>9.1</td>\n",
       "    </tr>\n",
       "    <tr>\n",
       "      <th>306</th>\n",
       "      <td>5</td>\n",
       "      <td>9</td>\n",
       "      <td>The One with Ross's Sandwich</td>\n",
       "      <td>9.1</td>\n",
       "    </tr>\n",
       "    <tr>\n",
       "      <th>241</th>\n",
       "      <td>4</td>\n",
       "      <td>8</td>\n",
       "      <td>The One with Chandler in a Box</td>\n",
       "      <td>9.1</td>\n",
       "    </tr>\n",
       "    <tr>\n",
       "      <th>222</th>\n",
       "      <td>4</td>\n",
       "      <td>1</td>\n",
       "      <td>The One with the Jellyfish</td>\n",
       "      <td>9.1</td>\n",
       "    </tr>\n",
       "    <tr>\n",
       "      <th>195</th>\n",
       "      <td>3</td>\n",
       "      <td>16</td>\n",
       "      <td>The One the Morning After</td>\n",
       "      <td>9.1</td>\n",
       "    </tr>\n",
       "  </tbody>\n",
       "</table>\n",
       "</div>"
      ],
      "text/plain": [
       "     epseason  epnum                                             epname  \\\n",
       "692        10     18                               The Last One: Part 2   \n",
       "322         5     14                  The One Where Everybody Finds Out   \n",
       "688        10     17                               The Last One: Part 1   \n",
       "251         4     12                           The One with the Embryos   \n",
       "116         2     14                        The One with the Prom Video   \n",
       "520         8      9                             The One with the Rumor   \n",
       "506         8      4                         The One with the Videotape   \n",
       "430         6     25                  The One with the Proposal: Part 2   \n",
       "380         6      9                        The One Where Ross Got High   \n",
       "305         5      8                     The One with the Thanksgivings   \n",
       "282         4     24              The One with Ross's Wedding: Part Two   \n",
       "501         8      2                       The One with the Red Sweater   \n",
       "495         7     24  The One with Monica and Chandler's Wedding: Pa...   \n",
       "410         6     17                                 The One with Unagi   \n",
       "353         5     24                           The One in Vegas: Part 2   \n",
       "312         5     11                   The One with All the Resolutions   \n",
       "306         5      9                       The One with Ross's Sandwich   \n",
       "241         4      8                     The One with Chandler in a Box   \n",
       "222         4      1                         The One with the Jellyfish   \n",
       "195         3     16                          The One the Morning After   \n",
       "\n",
       "     rating  \n",
       "692     9.7  \n",
       "322     9.7  \n",
       "688     9.5  \n",
       "251     9.4  \n",
       "116     9.4  \n",
       "520     9.3  \n",
       "506     9.3  \n",
       "430     9.3  \n",
       "380     9.2  \n",
       "305     9.2  \n",
       "282     9.2  \n",
       "501     9.1  \n",
       "495     9.1  \n",
       "410     9.1  \n",
       "353     9.1  \n",
       "312     9.1  \n",
       "306     9.1  \n",
       "241     9.1  \n",
       "222     9.1  \n",
       "195     9.1  "
      ]
     },
     "execution_count": 57,
     "metadata": {},
     "output_type": "execute_result"
    }
   ],
   "source": [
    "sorted_ratings.head(20)"
   ]
  },
  {
   "cell_type": "markdown",
   "metadata": {},
   "source": [
    "## All Episode Ratings "
   ]
  },
  {
   "cell_type": "code",
   "execution_count": 60,
   "metadata": {
    "colab": {
     "base_uri": "https://localhost:8080/",
     "height": 186
    },
    "colab_type": "code",
    "id": "OBufb8Vd3yL4",
    "outputId": "57e32e93-e8cb-4154-e301-202d881bb850"
   },
   "outputs": [
    {
     "data": {
      "text/html": [
       "<div>\n",
       "<style scoped>\n",
       "    .dataframe tbody tr th:only-of-type {\n",
       "        vertical-align: middle;\n",
       "    }\n",
       "\n",
       "    .dataframe tbody tr th {\n",
       "        vertical-align: top;\n",
       "    }\n",
       "\n",
       "    .dataframe thead th {\n",
       "        text-align: right;\n",
       "    }\n",
       "</style>\n",
       "<table border=\"1\" class=\"dataframe\">\n",
       "  <thead>\n",
       "    <tr style=\"text-align: right;\">\n",
       "      <th></th>\n",
       "      <th>epseason</th>\n",
       "      <th>epnum</th>\n",
       "      <th>rating</th>\n",
       "    </tr>\n",
       "  </thead>\n",
       "  <tbody>\n",
       "    <tr>\n",
       "      <th>0</th>\n",
       "      <td>1</td>\n",
       "      <td>1</td>\n",
       "      <td>8.4</td>\n",
       "    </tr>\n",
       "    <tr>\n",
       "      <th>4</th>\n",
       "      <td>1</td>\n",
       "      <td>2</td>\n",
       "      <td>8.1</td>\n",
       "    </tr>\n",
       "    <tr>\n",
       "      <th>7</th>\n",
       "      <td>1</td>\n",
       "      <td>3</td>\n",
       "      <td>8.2</td>\n",
       "    </tr>\n",
       "    <tr>\n",
       "      <th>10</th>\n",
       "      <td>1</td>\n",
       "      <td>4</td>\n",
       "      <td>8.2</td>\n",
       "    </tr>\n",
       "    <tr>\n",
       "      <th>13</th>\n",
       "      <td>1</td>\n",
       "      <td>5</td>\n",
       "      <td>8.5</td>\n",
       "    </tr>\n",
       "  </tbody>\n",
       "</table>\n",
       "</div>"
      ],
      "text/plain": [
       "    epseason  epnum  rating\n",
       "0          1      1     8.4\n",
       "4          1      2     8.1\n",
       "7          1      3     8.2\n",
       "10         1      4     8.2\n",
       "13         1      5     8.5"
      ]
     },
     "execution_count": 60,
     "metadata": {},
     "output_type": "execute_result"
    }
   ],
   "source": [
    "# create new df to drop duplicates on episodes to just get ratings\n",
    "df2 = df[['epseason','epnum','rating']]\n",
    "ep_ratings = df2.drop_duplicates(subset=['epseason', 'epnum'], keep='first')\n",
    "\n",
    "ep_ratings.head()"
   ]
  },
  {
   "cell_type": "code",
   "execution_count": 61,
   "metadata": {
    "colab": {
     "base_uri": "https://localhost:8080/",
     "height": 711
    },
    "colab_type": "code",
    "id": "hJ6FdAUu5TW5",
    "outputId": "00f5771d-cadc-4b60-e8e5-2b7a9670e909"
   },
   "outputs": [
    {
     "data": {
      "text/html": [
       "<div>\n",
       "<style scoped>\n",
       "    .dataframe tbody tr th:only-of-type {\n",
       "        vertical-align: middle;\n",
       "    }\n",
       "\n",
       "    .dataframe tbody tr th {\n",
       "        vertical-align: top;\n",
       "    }\n",
       "\n",
       "    .dataframe thead th {\n",
       "        text-align: right;\n",
       "    }\n",
       "</style>\n",
       "<table border=\"1\" class=\"dataframe\">\n",
       "  <thead>\n",
       "    <tr style=\"text-align: right;\">\n",
       "      <th>epseason</th>\n",
       "      <th>1</th>\n",
       "      <th>2</th>\n",
       "      <th>3</th>\n",
       "      <th>4</th>\n",
       "      <th>5</th>\n",
       "      <th>6</th>\n",
       "      <th>7</th>\n",
       "      <th>8</th>\n",
       "      <th>9</th>\n",
       "      <th>10</th>\n",
       "    </tr>\n",
       "    <tr>\n",
       "      <th>epnum</th>\n",
       "      <th></th>\n",
       "      <th></th>\n",
       "      <th></th>\n",
       "      <th></th>\n",
       "      <th></th>\n",
       "      <th></th>\n",
       "      <th></th>\n",
       "      <th></th>\n",
       "      <th></th>\n",
       "      <th></th>\n",
       "    </tr>\n",
       "  </thead>\n",
       "  <tbody>\n",
       "    <tr>\n",
       "      <th>1</th>\n",
       "      <td>8.4</td>\n",
       "      <td>8.5</td>\n",
       "      <td>8.5</td>\n",
       "      <td>9.1</td>\n",
       "      <td>8.9</td>\n",
       "      <td>8.8</td>\n",
       "      <td>8.4</td>\n",
       "      <td>8.7</td>\n",
       "      <td>8.6</td>\n",
       "      <td>8.5</td>\n",
       "    </tr>\n",
       "    <tr>\n",
       "      <th>2</th>\n",
       "      <td>8.1</td>\n",
       "      <td>8.3</td>\n",
       "      <td>9.0</td>\n",
       "      <td>8.1</td>\n",
       "      <td>9.0</td>\n",
       "      <td>8.3</td>\n",
       "      <td>8.4</td>\n",
       "      <td>9.1</td>\n",
       "      <td>8.6</td>\n",
       "      <td>8.8</td>\n",
       "    </tr>\n",
       "    <tr>\n",
       "      <th>3</th>\n",
       "      <td>8.2</td>\n",
       "      <td>8.4</td>\n",
       "      <td>8.1</td>\n",
       "      <td>8.5</td>\n",
       "      <td>8.8</td>\n",
       "      <td>8.3</td>\n",
       "      <td>8.2</td>\n",
       "      <td>8.7</td>\n",
       "      <td>8.3</td>\n",
       "      <td>8.8</td>\n",
       "    </tr>\n",
       "    <tr>\n",
       "      <th>4</th>\n",
       "      <td>8.2</td>\n",
       "      <td>8.0</td>\n",
       "      <td>8.1</td>\n",
       "      <td>8.3</td>\n",
       "      <td>8.3</td>\n",
       "      <td>8.6</td>\n",
       "      <td>8.2</td>\n",
       "      <td>9.3</td>\n",
       "      <td>8.2</td>\n",
       "      <td>8.4</td>\n",
       "    </tr>\n",
       "    <tr>\n",
       "      <th>5</th>\n",
       "      <td>8.5</td>\n",
       "      <td>8.3</td>\n",
       "      <td>8.2</td>\n",
       "      <td>8.4</td>\n",
       "      <td>8.8</td>\n",
       "      <td>8.2</td>\n",
       "      <td>8.2</td>\n",
       "      <td>8.2</td>\n",
       "      <td>8.5</td>\n",
       "      <td>8.3</td>\n",
       "    </tr>\n",
       "    <tr>\n",
       "      <th>6</th>\n",
       "      <td>8.2</td>\n",
       "      <td>8.6</td>\n",
       "      <td>9.1</td>\n",
       "      <td>8.6</td>\n",
       "      <td>8.1</td>\n",
       "      <td>8.6</td>\n",
       "      <td>8.9</td>\n",
       "      <td>8.6</td>\n",
       "      <td>8.4</td>\n",
       "      <td>8.2</td>\n",
       "    </tr>\n",
       "    <tr>\n",
       "      <th>7</th>\n",
       "      <td>9.0</td>\n",
       "      <td>9.0</td>\n",
       "      <td>8.4</td>\n",
       "      <td>8.8</td>\n",
       "      <td>8.4</td>\n",
       "      <td>8.4</td>\n",
       "      <td>8.5</td>\n",
       "      <td>8.0</td>\n",
       "      <td>8.7</td>\n",
       "      <td>8.3</td>\n",
       "    </tr>\n",
       "    <tr>\n",
       "      <th>8</th>\n",
       "      <td>8.2</td>\n",
       "      <td>8.5</td>\n",
       "      <td>8.4</td>\n",
       "      <td>9.1</td>\n",
       "      <td>9.2</td>\n",
       "      <td>8.6</td>\n",
       "      <td>8.2</td>\n",
       "      <td>8.8</td>\n",
       "      <td>8.8</td>\n",
       "      <td>8.9</td>\n",
       "    </tr>\n",
       "    <tr>\n",
       "      <th>9</th>\n",
       "      <td>8.3</td>\n",
       "      <td>8.0</td>\n",
       "      <td>9.0</td>\n",
       "      <td>8.0</td>\n",
       "      <td>9.1</td>\n",
       "      <td>9.2</td>\n",
       "      <td>8.2</td>\n",
       "      <td>9.3</td>\n",
       "      <td>8.2</td>\n",
       "      <td>8.6</td>\n",
       "    </tr>\n",
       "    <tr>\n",
       "      <th>10</th>\n",
       "      <td>8.1</td>\n",
       "      <td>8.1</td>\n",
       "      <td>8.2</td>\n",
       "      <td>8.1</td>\n",
       "      <td>8.2</td>\n",
       "      <td>8.6</td>\n",
       "      <td>8.6</td>\n",
       "      <td>8.1</td>\n",
       "      <td>7.6</td>\n",
       "      <td>8.0</td>\n",
       "    </tr>\n",
       "    <tr>\n",
       "      <th>11</th>\n",
       "      <td>8.3</td>\n",
       "      <td>8.2</td>\n",
       "      <td>8.6</td>\n",
       "      <td>8.5</td>\n",
       "      <td>9.1</td>\n",
       "      <td>8.2</td>\n",
       "      <td>8.6</td>\n",
       "      <td>8.1</td>\n",
       "      <td>8.1</td>\n",
       "      <td>9.0</td>\n",
       "    </tr>\n",
       "    <tr>\n",
       "      <th>12</th>\n",
       "      <td>8.3</td>\n",
       "      <td>8.7</td>\n",
       "      <td>8.3</td>\n",
       "      <td>9.4</td>\n",
       "      <td>8.3</td>\n",
       "      <td>8.1</td>\n",
       "      <td>8.7</td>\n",
       "      <td>8.6</td>\n",
       "      <td>8.0</td>\n",
       "      <td>8.9</td>\n",
       "    </tr>\n",
       "    <tr>\n",
       "      <th>13</th>\n",
       "      <td>8.7</td>\n",
       "      <td>8.8</td>\n",
       "      <td>8.3</td>\n",
       "      <td>8.3</td>\n",
       "      <td>8.2</td>\n",
       "      <td>8.3</td>\n",
       "      <td>8.5</td>\n",
       "      <td>8.6</td>\n",
       "      <td>8.2</td>\n",
       "      <td>8.5</td>\n",
       "    </tr>\n",
       "    <tr>\n",
       "      <th>14</th>\n",
       "      <td>8.3</td>\n",
       "      <td>9.4</td>\n",
       "      <td>7.9</td>\n",
       "      <td>8.3</td>\n",
       "      <td>9.7</td>\n",
       "      <td>8.6</td>\n",
       "      <td>8.6</td>\n",
       "      <td>8.3</td>\n",
       "      <td>8.3</td>\n",
       "      <td>8.7</td>\n",
       "    </tr>\n",
       "    <tr>\n",
       "      <th>15</th>\n",
       "      <td>8.3</td>\n",
       "      <td>8.9</td>\n",
       "      <td>8.6</td>\n",
       "      <td>8.5</td>\n",
       "      <td>8.6</td>\n",
       "      <td>8.6</td>\n",
       "      <td>8.5</td>\n",
       "      <td>8.4</td>\n",
       "      <td>8.4</td>\n",
       "      <td>8.6</td>\n",
       "    </tr>\n",
       "    <tr>\n",
       "      <th>16</th>\n",
       "      <td>8.2</td>\n",
       "      <td>8.6</td>\n",
       "      <td>9.1</td>\n",
       "      <td>8.3</td>\n",
       "      <td>8.6</td>\n",
       "      <td>8.6</td>\n",
       "      <td>8.7</td>\n",
       "      <td>8.3</td>\n",
       "      <td>8.3</td>\n",
       "      <td>8.9</td>\n",
       "    </tr>\n",
       "    <tr>\n",
       "      <th>17</th>\n",
       "      <td>8.5</td>\n",
       "      <td>8.4</td>\n",
       "      <td>8.3</td>\n",
       "      <td>8.7</td>\n",
       "      <td>8.5</td>\n",
       "      <td>9.1</td>\n",
       "      <td>8.4</td>\n",
       "      <td>8.2</td>\n",
       "      <td>8.5</td>\n",
       "      <td>9.5</td>\n",
       "    </tr>\n",
       "    <tr>\n",
       "      <th>18</th>\n",
       "      <td>8.9</td>\n",
       "      <td>8.5</td>\n",
       "      <td>8.5</td>\n",
       "      <td>8.4</td>\n",
       "      <td>8.1</td>\n",
       "      <td>8.4</td>\n",
       "      <td>8.5</td>\n",
       "      <td>8.2</td>\n",
       "      <td>8.6</td>\n",
       "      <td>9.7</td>\n",
       "    </tr>\n",
       "    <tr>\n",
       "      <th>19</th>\n",
       "      <td>8.2</td>\n",
       "      <td>8.6</td>\n",
       "      <td>8.2</td>\n",
       "      <td>8.7</td>\n",
       "      <td>8.8</td>\n",
       "      <td>8.4</td>\n",
       "      <td>8.7</td>\n",
       "      <td>7.5</td>\n",
       "      <td>8.2</td>\n",
       "      <td>NaN</td>\n",
       "    </tr>\n",
       "    <tr>\n",
       "      <th>20</th>\n",
       "      <td>8.0</td>\n",
       "      <td>8.2</td>\n",
       "      <td>8.2</td>\n",
       "      <td>8.6</td>\n",
       "      <td>8.4</td>\n",
       "      <td>7.5</td>\n",
       "      <td>8.5</td>\n",
       "      <td>7.5</td>\n",
       "      <td>8.3</td>\n",
       "      <td>NaN</td>\n",
       "    </tr>\n",
       "    <tr>\n",
       "      <th>21</th>\n",
       "      <td>8.0</td>\n",
       "      <td>8.2</td>\n",
       "      <td>8.8</td>\n",
       "      <td>7.3</td>\n",
       "      <td>8.6</td>\n",
       "      <td>8.6</td>\n",
       "      <td>7.5</td>\n",
       "      <td>8.2</td>\n",
       "      <td>8.2</td>\n",
       "      <td>NaN</td>\n",
       "    </tr>\n",
       "    <tr>\n",
       "      <th>22</th>\n",
       "      <td>8.4</td>\n",
       "      <td>9.0</td>\n",
       "      <td>8.3</td>\n",
       "      <td>8.6</td>\n",
       "      <td>8.3</td>\n",
       "      <td>9.0</td>\n",
       "      <td>8.5</td>\n",
       "      <td>8.4</td>\n",
       "      <td>7.9</td>\n",
       "      <td>NaN</td>\n",
       "    </tr>\n",
       "    <tr>\n",
       "      <th>23</th>\n",
       "      <td>8.7</td>\n",
       "      <td>8.2</td>\n",
       "      <td>8.1</td>\n",
       "      <td>8.8</td>\n",
       "      <td>8.8</td>\n",
       "      <td>8.6</td>\n",
       "      <td>8.9</td>\n",
       "      <td>8.8</td>\n",
       "      <td>8.5</td>\n",
       "      <td>NaN</td>\n",
       "    </tr>\n",
       "    <tr>\n",
       "      <th>24</th>\n",
       "      <td>8.9</td>\n",
       "      <td>8.3</td>\n",
       "      <td>8.2</td>\n",
       "      <td>9.2</td>\n",
       "      <td>9.1</td>\n",
       "      <td>8.8</td>\n",
       "      <td>9.1</td>\n",
       "      <td>8.9</td>\n",
       "      <td>8.7</td>\n",
       "      <td>NaN</td>\n",
       "    </tr>\n",
       "    <tr>\n",
       "      <th>25</th>\n",
       "      <td>NaN</td>\n",
       "      <td>NaN</td>\n",
       "      <td>8.9</td>\n",
       "      <td>NaN</td>\n",
       "      <td>NaN</td>\n",
       "      <td>9.3</td>\n",
       "      <td>NaN</td>\n",
       "      <td>NaN</td>\n",
       "      <td>NaN</td>\n",
       "      <td>NaN</td>\n",
       "    </tr>\n",
       "  </tbody>\n",
       "</table>\n",
       "</div>"
      ],
      "text/plain": [
       "epseason   1    2    3    4    5    6    7    8    9    10\n",
       "epnum                                                     \n",
       "1         8.4  8.5  8.5  9.1  8.9  8.8  8.4  8.7  8.6  8.5\n",
       "2         8.1  8.3  9.0  8.1  9.0  8.3  8.4  9.1  8.6  8.8\n",
       "3         8.2  8.4  8.1  8.5  8.8  8.3  8.2  8.7  8.3  8.8\n",
       "4         8.2  8.0  8.1  8.3  8.3  8.6  8.2  9.3  8.2  8.4\n",
       "5         8.5  8.3  8.2  8.4  8.8  8.2  8.2  8.2  8.5  8.3\n",
       "6         8.2  8.6  9.1  8.6  8.1  8.6  8.9  8.6  8.4  8.2\n",
       "7         9.0  9.0  8.4  8.8  8.4  8.4  8.5  8.0  8.7  8.3\n",
       "8         8.2  8.5  8.4  9.1  9.2  8.6  8.2  8.8  8.8  8.9\n",
       "9         8.3  8.0  9.0  8.0  9.1  9.2  8.2  9.3  8.2  8.6\n",
       "10        8.1  8.1  8.2  8.1  8.2  8.6  8.6  8.1  7.6  8.0\n",
       "11        8.3  8.2  8.6  8.5  9.1  8.2  8.6  8.1  8.1  9.0\n",
       "12        8.3  8.7  8.3  9.4  8.3  8.1  8.7  8.6  8.0  8.9\n",
       "13        8.7  8.8  8.3  8.3  8.2  8.3  8.5  8.6  8.2  8.5\n",
       "14        8.3  9.4  7.9  8.3  9.7  8.6  8.6  8.3  8.3  8.7\n",
       "15        8.3  8.9  8.6  8.5  8.6  8.6  8.5  8.4  8.4  8.6\n",
       "16        8.2  8.6  9.1  8.3  8.6  8.6  8.7  8.3  8.3  8.9\n",
       "17        8.5  8.4  8.3  8.7  8.5  9.1  8.4  8.2  8.5  9.5\n",
       "18        8.9  8.5  8.5  8.4  8.1  8.4  8.5  8.2  8.6  9.7\n",
       "19        8.2  8.6  8.2  8.7  8.8  8.4  8.7  7.5  8.2  NaN\n",
       "20        8.0  8.2  8.2  8.6  8.4  7.5  8.5  7.5  8.3  NaN\n",
       "21        8.0  8.2  8.8  7.3  8.6  8.6  7.5  8.2  8.2  NaN\n",
       "22        8.4  9.0  8.3  8.6  8.3  9.0  8.5  8.4  7.9  NaN\n",
       "23        8.7  8.2  8.1  8.8  8.8  8.6  8.9  8.8  8.5  NaN\n",
       "24        8.9  8.3  8.2  9.2  9.1  8.8  9.1  8.9  8.7  NaN\n",
       "25        NaN  NaN  8.9  NaN  NaN  9.3  NaN  NaN  NaN  NaN"
      ]
     },
     "execution_count": 61,
     "metadata": {},
     "output_type": "execute_result"
    }
   ],
   "source": [
    "# create a pt of the ratings\n",
    "pt = pd.pivot_table(df2, values = 'rating', index=['epnum'], columns = 'epseason')\n",
    "pt"
   ]
  },
  {
   "cell_type": "code",
   "execution_count": 62,
   "metadata": {
    "colab": {
     "base_uri": "https://localhost:8080/",
     "height": 367
    },
    "colab_type": "code",
    "id": "jxddBLJ17HSy",
    "outputId": "13d39fd9-4150-45b9-97a1-608f2fa1cc67"
   },
   "outputs": [
    {
     "data": {
      "text/plain": [
       "array([[nan, nan, 8.9, nan, nan, 9.3, nan, nan, nan, nan],\n",
       "       [8.9, 8.3, 8.2, 9.2, 9.1, 8.8, 9.1, 8.9, 8.7, nan],\n",
       "       [8.7, 8.2, 8.1, 8.8, 8.8, 8.6, 8.9, 8.8, 8.5, nan],\n",
       "       [8.4, 9. , 8.3, 8.6, 8.3, 9. , 8.5, 8.4, 7.9, nan],\n",
       "       [8. , 8.2, 8.8, 7.3, 8.6, 8.6, 7.5, 8.2, 8.2, nan],\n",
       "       [8. , 8.2, 8.2, 8.6, 8.4, 7.5, 8.5, 7.5, 8.3, nan],\n",
       "       [8.2, 8.6, 8.2, 8.7, 8.8, 8.4, 8.7, 7.5, 8.2, nan],\n",
       "       [8.9, 8.5, 8.5, 8.4, 8.1, 8.4, 8.5, 8.2, 8.6, 9.7],\n",
       "       [8.5, 8.4, 8.3, 8.7, 8.5, 9.1, 8.4, 8.2, 8.5, 9.5],\n",
       "       [8.2, 8.6, 9.1, 8.3, 8.6, 8.6, 8.7, 8.3, 8.3, 8.9],\n",
       "       [8.3, 8.9, 8.6, 8.5, 8.6, 8.6, 8.5, 8.4, 8.4, 8.6],\n",
       "       [8.3, 9.4, 7.9, 8.3, 9.7, 8.6, 8.6, 8.3, 8.3, 8.7],\n",
       "       [8.7, 8.8, 8.3, 8.3, 8.2, 8.3, 8.5, 8.6, 8.2, 8.5],\n",
       "       [8.3, 8.7, 8.3, 9.4, 8.3, 8.1, 8.7, 8.6, 8. , 8.9],\n",
       "       [8.3, 8.2, 8.6, 8.5, 9.1, 8.2, 8.6, 8.1, 8.1, 9. ],\n",
       "       [8.1, 8.1, 8.2, 8.1, 8.2, 8.6, 8.6, 8.1, 7.6, 8. ],\n",
       "       [8.3, 8. , 9. , 8. , 9.1, 9.2, 8.2, 9.3, 8.2, 8.6],\n",
       "       [8.2, 8.5, 8.4, 9.1, 9.2, 8.6, 8.2, 8.8, 8.8, 8.9],\n",
       "       [9. , 9. , 8.4, 8.8, 8.4, 8.4, 8.5, 8. , 8.7, 8.3],\n",
       "       [8.2, 8.6, 9.1, 8.6, 8.1, 8.6, 8.9, 8.6, 8.4, 8.2],\n",
       "       [8.5, 8.3, 8.2, 8.4, 8.8, 8.2, 8.2, 8.2, 8.5, 8.3],\n",
       "       [8.2, 8. , 8.1, 8.3, 8.3, 8.6, 8.2, 9.3, 8.2, 8.4],\n",
       "       [8.2, 8.4, 8.1, 8.5, 8.8, 8.3, 8.2, 8.7, 8.3, 8.8],\n",
       "       [8.1, 8.3, 9. , 8.1, 9. , 8.3, 8.4, 9.1, 8.6, 8.8],\n",
       "       [8.4, 8.5, 8.5, 9.1, 8.9, 8.8, 8.4, 8.7, 8.6, 8.5]])"
      ]
     },
     "execution_count": 62,
     "metadata": {},
     "output_type": "execute_result"
    }
   ],
   "source": [
    "# create a matrix of the pt and invert\n",
    "ratings_matrix = pt.values\n",
    "ratings_matrix[::-1]"
   ]
  },
  {
   "cell_type": "code",
   "execution_count": 63,
   "metadata": {
    "colab": {
     "base_uri": "https://localhost:8080/",
     "height": 608
    },
    "colab_type": "code",
    "id": "XW9KkokM49_X",
    "outputId": "ced246f3-00cf-427e-dc56-6a6d85dbe1ca"
   },
   "outputs": [
    {
     "data": {
      "text/plain": [
       "Text(0.5, 1, 'The one with all the ratings')"
      ]
     },
     "execution_count": 63,
     "metadata": {},
     "output_type": "execute_result"
    },
    {
     "data": {
      "image/png": "[encoded data removed]",
      "text/plain": [
       "<Figure size 720x720 with 2 Axes>"
      ]
     },
     "metadata": {},
     "output_type": "display_data"
    }
   ],
   "source": [
    "# create heatmap\n",
    "\n",
    "# figure, size, style\n",
    "fig = plt.figure(figsize=(10,10))\n",
    "plt.style.use('dark_background')\n",
    "r = sns.heatmap(ratings_matrix[::-1], cmap='Blues')\n",
    "plt.xticks([]),plt.yticks([])\n",
    "\n",
    "# choose font\n",
    "font = {'family' : 'normal',\n",
    "        'weight' : 'normal',\n",
    "        'size'   : 10}\n",
    "\n",
    "plt.rc('font', **font)\n",
    "r.set_title(\"The one with all the ratings\")\n",
    "\n",
    "# save file\n",
    "# plt.savefig('The One With All The Ratings.png')"
   ]
  },
  {
   "cell_type": "markdown",
   "metadata": {},
   "source": [
    "## Gender Dynamics"
   ]
  },
  {
   "cell_type": "code",
   "execution_count": 64,
   "metadata": {
    "colab": {
     "base_uri": "https://localhost:8080/",
     "height": 73
    },
    "colab_type": "code",
    "id": "OLGh3JhsGYP1",
    "outputId": "334d3275-746c-459c-fd2d-a7ec136eb441"
   },
   "outputs": [
    {
     "name": "stdout",
     "output_type": "stream",
     "text": [
      "The mean rating for plots with women: 8.453521126760558\n",
      "There are 213 plots with women\n",
      "The mean rating for plots with men: 8.478037383177565\n",
      "There are 214 plots with men\n"
     ]
    }
   ],
   "source": [
    "# define codes for women-only storylines\n",
    "women_codes = [3,4,5,34,35,45,345]\n",
    "\n",
    "# find number of plots and avg rating\n",
    "women_df = df[df.dynamics.isin(women_codes)]\n",
    "print('The mean rating for plots with women:',women_df.rating.mean())\n",
    "print('There are', women_df.rating.count(), 'plots with women')\n",
    "\n",
    "\n",
    "# define codes for men-only storylines\n",
    "men_codes = [1,2,6,12,16,26,126]\n",
    "\n",
    "# find number of plots and avg rating\n",
    "men_df = df[df.dynamics.isin(men_codes)]\n",
    "print('The mean rating for plots with men:',men_df.rating.mean())\n",
    "print('There are', men_df.rating.count(), 'plots with men')"
   ]
  },
  {
   "cell_type": "code",
   "execution_count": 65,
   "metadata": {
    "colab": {
     "base_uri": "https://localhost:8080/",
     "height": 582
    },
    "colab_type": "code",
    "id": "xb2h_So4qAa9",
    "outputId": "08cccbd8-9a07-4906-d1fd-56408c4f3d67"
   },
   "outputs": [
    {
     "data": {
      "image/png": "[encoded data removed]",
      "text/plain": [
       "<Figure size 720x720 with 1 Axes>"
      ]
     },
     "metadata": {},
     "output_type": "display_data"
    }
   ],
   "source": [
    "# make a pie chart of the number of storylines for men and women\n",
    "\n",
    "plt.figure(figsize = (10,10))\n",
    "plt.pie([women_df.rating.count(),men_df.rating.count()], colors = colors);"
   ]
  },
  {
   "cell_type": "code",
   "execution_count": 66,
   "metadata": {
    "colab": {
     "base_uri": "https://localhost:8080/",
     "height": 995
    },
    "colab_type": "code",
    "id": "_tzsrFXZpM5j",
    "outputId": "d496b9bf-36a4-4a04-88d2-35517675209e"
   },
   "outputs": [
    {
     "name": "stderr",
     "output_type": "stream",
     "text": [
      "findfont: Font family ['normal'] not found. Falling back to DejaVu Sans.\n",
      "findfont: Font family ['normal'] not found. Falling back to DejaVu Sans.\n"
     ]
    },
    {
     "name": "stdout",
     "output_type": "stream",
     "text": [
      "8.453521126760558\n",
      "8.478037383177565\n"
     ]
    },
    {
     "data": {
      "image/png": "[encoded data removed]",
      "text/plain": [
       "<Figure size 720x504 with 1 Axes>"
      ]
     },
     "metadata": {},
     "output_type": "display_data"
    },
    {
     "data": {
      "image/png": "[encoded data removed]",
      "text/plain": [
       "<Figure size 720x504 with 1 Axes>"
      ]
     },
     "metadata": {},
     "output_type": "display_data"
    }
   ],
   "source": [
    "# histogram of women's ratings\n",
    "women_df.hist('rating', color = '#BC312A', figsize =(10,7))\n",
    "plt.axvline(women_df.rating.mean(), color = 'white', linewidth = 5)\n",
    "plt.yticks([0,20,40,60, 80])\n",
    "plt.grid(False)\n",
    "plt.box(False)\n",
    "plt.title('women')\n",
    "print(women_df.rating.mean())\n",
    "\n",
    "\n",
    "# histogram of men's ratings\n",
    "men_df.hist('rating',  color = '#FFDC00', figsize =(10,7))\n",
    "plt.axvline(men_df.rating.mean(), color = 'white', linewidth = 5)\n",
    "plt.yticks([0,20,40,60, 80])\n",
    "plt.grid(False)\n",
    "plt.box(False)\n",
    "plt.title('men')\n",
    "print(men_df.rating.mean())"
   ]
  },
  {
   "cell_type": "markdown",
   "metadata": {},
   "source": [
    "## Character Ratings (Individual and Pair)"
   ]
  },
  {
   "cell_type": "markdown",
   "metadata": {},
   "source": [
    "### Chandler"
   ]
  },
  {
   "cell_type": "code",
   "execution_count": 67,
   "metadata": {
    "colab": {
     "base_uri": "https://localhost:8080/",
     "height": 59
    },
    "colab_type": "code",
    "id": "uCEKsMRlNPmb",
    "outputId": "69d9da85-ab94-4fb3-f998-dd6fb22b48bf"
   },
   "outputs": [
    {
     "name": "stdout",
     "output_type": "stream",
     "text": [
      "The mean rating for eps with plots around chandler: 8.60080645161291\n",
      "The mean rating for eps with individual plots around chandler: 8.326470588235294\n",
      "Chandler appears in 124 plotlines\n"
     ]
    }
   ],
   "source": [
    "#chandler stats\n",
    "\n",
    "chandler_codes = [1,12,13,14,15,16,123,124,125,126,134,135,136,145,146,156]\n",
    "chandler12_codes = [12,13,14,15,16]\n",
    "chandler_df = df[df.dynamics.isin(chandler_codes)]\n",
    "chandler_duo = df[df.dynamics.isin(chandler12_codes)]\n",
    "chandler_only = df[df['dynamics'] == 1]\n",
    "\n",
    "\n",
    "print('The mean rating for eps with plots around chandler:',chandler_duo.rating.mean())\n",
    "print('The mean rating for eps with individual plots around chandler:',chandler_only.rating.mean())\n",
    "print('Chandler appears in', chandler_duo.rating.count(), 'plotlines')"
   ]
  },
  {
   "cell_type": "code",
   "execution_count": 69,
   "metadata": {
    "colab": {
     "base_uri": "https://localhost:8080/",
     "height": 513
    },
    "colab_type": "code",
    "id": "fadnpZySG3EK",
    "outputId": "80e347b6-e65c-4ad8-d3d3-3c38d248eaaa"
   },
   "outputs": [
    {
     "name": "stdout",
     "output_type": "stream",
     "text": [
      "8.326470588235294\n"
     ]
    },
    {
     "data": {
      "image/png": "[encoded data removed]",
      "text/plain": [
       "<Figure size 720x504 with 1 Axes>"
      ]
     },
     "metadata": {},
     "output_type": "display_data"
    }
   ],
   "source": [
    "# chandler only histogram\n",
    "chandler_only.hist('rating', color = '#BC312A', figsize =(10,7))\n",
    "\n",
    "plt.style.use('dark_background')\n",
    "plt.axvline(chandler_only.rating.mean(), color = 'white', linewidth = 5)\n",
    "plt.xlabel('Chandler', fontsize = 15)\n",
    "plt.grid(False)\n",
    "plt.box(False)\n",
    "plt.xticks([7.2,7.6,8.0,8.4,8.8,9.2,9.6])\n",
    "plt.yticks([0,5,10,15])\n",
    "\n",
    "plt.title('')\n",
    "print(chandler_only.rating.mean())\n",
    "\n",
    "# save file\n",
    "# plt.savefig('chandler ratings.png')"
   ]
  },
  {
   "cell_type": "code",
   "execution_count": 72,
   "metadata": {
    "colab": {
     "base_uri": "https://localhost:8080/",
     "height": 465
    },
    "colab_type": "code",
    "id": "ox5QVYsG1pIj",
    "outputId": "22ca3005-e3dd-437d-fe84-2a2c02843b27"
   },
   "outputs": [
    {
     "name": "stdout",
     "output_type": "stream",
     "text": [
      "8.60080645161291\n"
     ]
    },
    {
     "data": {
      "image/png": "[encoded data removed]",
      "text/plain": [
       "<Figure size 720x504 with 1 Axes>"
      ]
     },
     "metadata": {},
     "output_type": "display_data"
    }
   ],
   "source": [
    "# chandler duo hist\n",
    "\n",
    "chandler_duo.hist('rating', color = '#BC312A', figsize =(10,7))\n",
    "\n",
    "plt.style.use('dark_background')\n",
    "plt.axvline(chandler_duo.rating.mean(), color = 'white', linewidth = 5)\n",
    "plt.xlabel('Chandler duo', fontsize = 15)\n",
    "plt.grid(False)\n",
    "plt.box(False)\n",
    "plt.xticks([7.2,7.6,8.0,8.4,8.8,9.2,9.6])\n",
    "plt.yticks([0,10,20,30,35])\n",
    "\n",
    "plt.title('')\n",
    "print(chandler_duo.rating.mean())\n",
    "\n",
    "# save file\n",
    "# plt.savefig('chandler duo ratings.png')"
   ]
  },
  {
   "cell_type": "markdown",
   "metadata": {},
   "source": [
    "### Joey"
   ]
  },
  {
   "cell_type": "code",
   "execution_count": 73,
   "metadata": {
    "colab": {
     "base_uri": "https://localhost:8080/",
     "height": 59
    },
    "colab_type": "code",
    "id": "B_b3-W29TIxY",
    "outputId": "03363477-0ff4-432f-9b0c-f48ac6baefd0"
   },
   "outputs": [
    {
     "name": "stdout",
     "output_type": "stream",
     "text": [
      "The mean rating for eps with plots around joey: 8.531067961165052\n",
      "The mean rating for eps with individual plots around joey: 8.511111111111113\n",
      "Joey appears in 103 plotlines\n"
     ]
    }
   ],
   "source": [
    "# joey stats\n",
    "\n",
    "joey_codes = [2,12,23,24,25,26,123,124,125,126,234,235,236,245,246,256]\n",
    "joey12_codes = [12,23,24,25,26]\n",
    "\n",
    "joey_only = df[df['dynamics'] == 2]\n",
    "joey_duo = df[df.dynamics.isin(joey12_codes)]\n",
    "joey_df = df[df.dynamics.isin(joey_codes)]\n",
    "\n",
    "print('The mean rating for eps with plots around joey:',joey_duo.rating.mean())\n",
    "print('The mean rating for eps with individual plots around joey:',joey_only.rating.mean())\n",
    "print('Joey appears in', joey_duo.rating.count(), 'plotlines')"
   ]
  },
  {
   "cell_type": "code",
   "execution_count": 74,
   "metadata": {
    "colab": {
     "base_uri": "https://localhost:8080/",
     "height": 465
    },
    "colab_type": "code",
    "id": "dVy0_q4EMZXY",
    "outputId": "6fd4cbda-5a95-4912-f7e3-89a11aec36e5"
   },
   "outputs": [
    {
     "name": "stdout",
     "output_type": "stream",
     "text": [
      "8.511111111111113\n"
     ]
    },
    {
     "data": {
      "image/png": "[encoded data removed]",
      "text/plain": [
       "<Figure size 720x504 with 1 Axes>"
      ]
     },
     "metadata": {},
     "output_type": "display_data"
    }
   ],
   "source": [
    "# joey only histogram\n",
    "\n",
    "joey_only.hist('rating', color = '#FFDC00' , figsize =(10,7))\n",
    "\n",
    "plt.style.use('dark_background')\n",
    "plt.axvline(joey_only.rating.mean(), color = 'white', linewidth = 5)\n",
    "plt.xlabel('joey', fontsize = 15)\n",
    "plt.grid(False)\n",
    "plt.box(False)\n",
    "plt.xticks([7.2,7.6,8.0,8.4,8.8,9.2,9.6])\n",
    "plt.yticks([0,5,10,15])\n",
    "\n",
    "plt.title('')\n",
    "print(joey_only.rating.mean())\n",
    "\n",
    "# save file\n",
    "# plt.savefig('joey ratings.png')"
   ]
  },
  {
   "cell_type": "code",
   "execution_count": 76,
   "metadata": {
    "colab": {
     "base_uri": "https://localhost:8080/",
     "height": 465
    },
    "colab_type": "code",
    "id": "k6VHM5LZ1-3L",
    "outputId": "7dfcd1b4-8048-45ce-94e6-364cc3c22bbf"
   },
   "outputs": [
    {
     "name": "stdout",
     "output_type": "stream",
     "text": [
      "8.531067961165052\n"
     ]
    },
    {
     "data": {
      "image/png": "[encoded data removed]",
      "text/plain": [
       "<Figure size 720x504 with 1 Axes>"
      ]
     },
     "metadata": {},
     "output_type": "display_data"
    }
   ],
   "source": [
    "# joey duo histogram\n",
    "\n",
    "joey_duo.hist('rating', color = '#FFDC00', figsize =(10,7))\n",
    "\n",
    "plt.style.use('dark_background')\n",
    "plt.axvline(joey_duo.rating.mean(), color = 'white', linewidth = 5)\n",
    "plt.xlabel('joey duo', fontsize = 15)\n",
    "plt.grid(False)\n",
    "plt.box(False)\n",
    "plt.xticks([7.2,7.6,8.0,8.4,8.8,9.2,9.6])\n",
    "plt.yticks([0,10,20,30,35])\n",
    "\n",
    "\n",
    "plt.title('')\n",
    "print(joey_duo.rating.mean())\n",
    "\n",
    "# save file\n",
    "# plt.savefig('joey duo ratings.png')"
   ]
  },
  {
   "cell_type": "markdown",
   "metadata": {},
   "source": [
    "### Monica"
   ]
  },
  {
   "cell_type": "code",
   "execution_count": 77,
   "metadata": {
    "colab": {
     "base_uri": "https://localhost:8080/",
     "height": 59
    },
    "colab_type": "code",
    "id": "k_K2alzOAoR5",
    "outputId": "21fa0cfc-6cbb-49cb-857c-2f74ccf80197"
   },
   "outputs": [
    {
     "name": "stdout",
     "output_type": "stream",
     "text": [
      "The mean rating for eps with plots around monica: 8.552884615384617\n",
      "The mean rating for eps with individual plots around monica: 8.43809523809524\n",
      "Monica appears in 104 plotlines\n"
     ]
    }
   ],
   "source": [
    "# monica stats \n",
    "monica_codes = [3,13,23,34,35,36,123,134,135,136,234,235,236,345,346,356]\n",
    "monica12_codes = [13,23,34,35,36]\n",
    "\n",
    "monica_only = df[df['dynamics'] == 3]\n",
    "monica_duo = df[df.dynamics.isin(monica12_codes)]\n",
    "monica_df = df[df.dynamics.isin(monica_codes)]\n",
    "\n",
    "print('The mean rating for eps with plots around monica:',monica_duo.rating.mean())\n",
    "print('The mean rating for eps with individual plots around monica:',monica_only.rating.mean())\n",
    "print('Monica appears in', monica_duo.rating.count(), 'plotlines')"
   ]
  },
  {
   "cell_type": "code",
   "execution_count": 79,
   "metadata": {
    "colab": {
     "base_uri": "https://localhost:8080/",
     "height": 465
    },
    "colab_type": "code",
    "id": "RLFEmyq7uSBL",
    "outputId": "05a340ce-9009-4db3-f2a5-591af01d1e22"
   },
   "outputs": [
    {
     "name": "stdout",
     "output_type": "stream",
     "text": [
      "8.43809523809524\n"
     ]
    },
    {
     "data": {
      "image/png": "[encoded data removed]",
      "text/plain": [
       "<Figure size 720x504 with 1 Axes>"
      ]
     },
     "metadata": {},
     "output_type": "display_data"
    }
   ],
   "source": [
    "# monica only histogram\n",
    "\n",
    "monica_only.hist('rating', color = '#42A2D6' , figsize =(10,7))\n",
    "\n",
    "plt.style.use('dark_background')\n",
    "plt.axvline(monica_only.rating.mean(), color = 'white', linewidth = 5)\n",
    "plt.xlabel('monica', fontsize = 15)\n",
    "\n",
    "plt.grid(False)\n",
    "plt.box(False)\n",
    "plt.xticks([7.2,7.6,8.0,8.4,8.8,9.2,9.6])\n",
    "plt.yticks([0,5,10,15])\n",
    "\n",
    "plt.title('')\n",
    "print(monica_only.rating.mean())\n",
    "\n",
    "# save file\n",
    "#plt.savefig('monica ratings.png')"
   ]
  },
  {
   "cell_type": "code",
   "execution_count": 81,
   "metadata": {
    "colab": {
     "base_uri": "https://localhost:8080/",
     "height": 465
    },
    "colab_type": "code",
    "id": "CJHikJFE2Nmx",
    "outputId": "6de71895-e8f4-4410-c428-68f0c6321f39"
   },
   "outputs": [
    {
     "name": "stdout",
     "output_type": "stream",
     "text": [
      "8.552884615384617\n"
     ]
    },
    {
     "data": {
      "image/png": "[encoded data removed]",
      "text/plain": [
       "<Figure size 720x504 with 1 Axes>"
      ]
     },
     "metadata": {},
     "output_type": "display_data"
    }
   ],
   "source": [
    "# monica duo histogram\n",
    "\n",
    "monica_duo.hist('rating', color = '#42A2D6', figsize =(10,7))\n",
    "\n",
    "plt.style.use('dark_background')\n",
    "plt.axvline(monica_duo.rating.mean(), color = 'white', linewidth = 5)\n",
    "plt.xlabel('monica duo', fontsize = 15)\n",
    "plt.grid(False)\n",
    "plt.box(False)\n",
    "plt.xticks([7.2,7.6,8.0,8.4,8.8,9.2,9.6])\n",
    "plt.yticks([0,10,20,30,35])\n",
    "plt.title('')\n",
    "\n",
    "print(monica_duo.rating.mean())\n",
    "\n",
    "# save file\n",
    "# plt.savefig('monica duo ratings.png')"
   ]
  },
  {
   "cell_type": "code",
   "execution_count": null,
   "metadata": {},
   "outputs": [],
   "source": [
    "### Phoebe"
   ]
  },
  {
   "cell_type": "code",
   "execution_count": 82,
   "metadata": {
    "colab": {
     "base_uri": "https://localhost:8080/",
     "height": 59
    },
    "colab_type": "code",
    "id": "Wi-9W6UQBGJm",
    "outputId": "8eda3dc6-dffa-41a9-b195-29a168260e96"
   },
   "outputs": [
    {
     "name": "stdout",
     "output_type": "stream",
     "text": [
      "The mean rating for eps with plots around phoebe: 8.486666666666665\n",
      "The mean rating for eps with individual plots around phoebe: 8.483076923076922\n",
      "phoebe appears in 75 plotlines\n"
     ]
    }
   ],
   "source": [
    "# phoebe stats\n",
    "\n",
    "phoebe_codes = [4,14,24,34,45,46,124,134,145,146,234,245,246,345,346,456]\n",
    "phoebe12_codes = [14,24,34,45,46]\n",
    "\n",
    "phoebe_only = df[df['dynamics'] == 4]\n",
    "phoebe_duo = df[df.dynamics.isin(phoebe12_codes)]\n",
    "phoebe_df = df[df.dynamics.isin(phoebe_codes)]\n",
    "\n",
    "print('The mean rating for eps with plots around phoebe:',phoebe_duo.rating.mean())\n",
    "print('The mean rating for eps with individual plots around phoebe:',phoebe_only.rating.mean())\n",
    "print('phoebe appears in', phoebe_duo.rating.count(), 'plotlines')"
   ]
  },
  {
   "cell_type": "code",
   "execution_count": 83,
   "metadata": {
    "colab": {
     "base_uri": "https://localhost:8080/",
     "height": 465
    },
    "colab_type": "code",
    "id": "ogcoI2-SunNQ",
    "outputId": "d91bafb2-4598-42bb-9b64-22e0cb307b10"
   },
   "outputs": [
    {
     "name": "stdout",
     "output_type": "stream",
     "text": [
      "8.483076923076922\n"
     ]
    },
    {
     "data": {
      "image/png": "[encoded data removed]",
      "text/plain": [
       "<Figure size 720x504 with 1 Axes>"
      ]
     },
     "metadata": {},
     "output_type": "display_data"
    }
   ],
   "source": [
    "# phoebe only histogram\n",
    "\n",
    "phoebe_only.hist('rating', color = '#42A2D6', figsize =(10,7))\n",
    "\n",
    "plt.style.use('dark_background')\n",
    "plt.axvline(phoebe_only.rating.mean(), color = 'white', linewidth = 5)\n",
    "plt.xlabel('phoebe', fontsize = 15)\n",
    "#plt.text(8.34,11.1,round(chandler_only.rating.mean(),2))\n",
    "plt.grid(False)\n",
    "plt.box(False)\n",
    "plt.xticks([7.2,7.6,8.0,8.4,8.8,9.2,9.6])\n",
    "plt.yticks([0,5,10,15])\n",
    "plt.title('')\n",
    "\n",
    "print(phoebe_only.rating.mean())\n",
    "\n",
    "# save file\n",
    "# plt.savefig('phoebe ratings.png')"
   ]
  },
  {
   "cell_type": "code",
   "execution_count": 85,
   "metadata": {
    "colab": {
     "base_uri": "https://localhost:8080/",
     "height": 465
    },
    "colab_type": "code",
    "id": "h0Vqg0VS2jzb",
    "outputId": "2f86871a-5c1a-460c-9da6-f63bae408da9"
   },
   "outputs": [
    {
     "name": "stdout",
     "output_type": "stream",
     "text": [
      "8.486666666666665\n"
     ]
    },
    {
     "data": {
      "image/png": "[encoded data removed]",
      "text/plain": [
       "<Figure size 720x504 with 1 Axes>"
      ]
     },
     "metadata": {},
     "output_type": "display_data"
    }
   ],
   "source": [
    "# phoebe duo histogram\n",
    "\n",
    "phoebe_duo.hist('rating', color = '#42A2D6', figsize =(10,7))\n",
    "\n",
    "plt.style.use('dark_background')\n",
    "plt.axvline(phoebe_duo.rating.mean(), color = 'white', linewidth = 5)\n",
    "plt.xlabel('phoebe duo', fontsize = 15)\n",
    "plt.grid(False)\n",
    "plt.box(False)\n",
    "plt.xticks([7.2,7.6,8.0,8.4,8.8,9.2,9.6])\n",
    "plt.yticks([0,10,20,30,35])\n",
    "plt.title('')\n",
    "\n",
    "print(phoebe_duo.rating.mean())\n",
    "\n",
    "# save file\n",
    "# plt.savefig('phoebe duo ratings.png')"
   ]
  },
  {
   "cell_type": "markdown",
   "metadata": {},
   "source": [
    "### Rachel"
   ]
  },
  {
   "cell_type": "code",
   "execution_count": 86,
   "metadata": {
    "colab": {
     "base_uri": "https://localhost:8080/",
     "height": 59
    },
    "colab_type": "code",
    "id": "msUIhc0TBH_8",
    "outputId": "207fc464-2aa5-4f46-9de2-3566048a1d05"
   },
   "outputs": [
    {
     "name": "stdout",
     "output_type": "stream",
     "text": [
      "The mean rating for eps with plots around rachel: 8.567424242424249\n",
      "The mean rating for eps with individual plots around rachel: 8.389361702127662\n",
      "rachel appears in 132 plotlines\n"
     ]
    }
   ],
   "source": [
    "# rachel stats\n",
    "\n",
    "rachel_codes = [5,15,25,35,45,56,125,135,145,156,235,245,256,345,356,456]\n",
    "rachel12_codes = [15,25,35,45,56]\n",
    "\n",
    "rachel_only = df[df['dynamics'] == 5]\n",
    "rachel_duo = df[df.dynamics.isin(rachel12_codes)]\n",
    "rachel_df = df[df.dynamics.isin(rachel_codes)]\n",
    "\n",
    "print('The mean rating for eps with plots around rachel:',rachel_duo.rating.mean())\n",
    "print('The mean rating for eps with individual plots around rachel:',rachel_only.rating.mean())\n",
    "print('rachel appears in', rachel_duo.rating.count(), 'plotlines')"
   ]
  },
  {
   "cell_type": "code",
   "execution_count": 87,
   "metadata": {
    "colab": {
     "base_uri": "https://localhost:8080/",
     "height": 465
    },
    "colab_type": "code",
    "id": "V8jPn2TkuunD",
    "outputId": "976e44e0-1b08-4b1c-b974-9729ac1c5af1"
   },
   "outputs": [
    {
     "name": "stdout",
     "output_type": "stream",
     "text": [
      "8.389361702127662\n"
     ]
    },
    {
     "data": {
      "image/png": "[encoded data removed]",
      "text/plain": [
       "<Figure size 720x504 with 1 Axes>"
      ]
     },
     "metadata": {},
     "output_type": "display_data"
    }
   ],
   "source": [
    "# rachel only histogram\n",
    "\n",
    "rachel_only.hist('rating', color = '#FFDC00', figsize =(10,7))\n",
    "\n",
    "plt.style.use('dark_background')\n",
    "plt.axvline(rachel_only.rating.mean(), color = 'white', linewidth = 5)\n",
    "plt.xlabel('rachel', fontsize = 15)\n",
    "#plt.text(8.34,11.1,round(chandler_only.rating.mean(),2))\n",
    "plt.grid(False)\n",
    "plt.box(False)\n",
    "plt.xticks([7.2,7.6,8.0,8.4,8.8,9.2,9.6])\n",
    "plt.yticks([0,5,10,15])\n",
    "plt.title('')\n",
    "\n",
    "print(rachel_only.rating.mean())\n",
    "\n",
    "# save file\n",
    "# plt.savefig('rachel ratings.png')"
   ]
  },
  {
   "cell_type": "code",
   "execution_count": 89,
   "metadata": {
    "colab": {
     "base_uri": "https://localhost:8080/",
     "height": 465
    },
    "colab_type": "code",
    "id": "bZ0LmHm522eS",
    "outputId": "39c8acbb-2b2c-4c12-cc5b-7f0d93660149"
   },
   "outputs": [
    {
     "name": "stdout",
     "output_type": "stream",
     "text": [
      "8.567424242424249\n"
     ]
    },
    {
     "data": {
      "image/png": "[encoded data removed]",
      "text/plain": [
       "<Figure size 720x504 with 1 Axes>"
      ]
     },
     "metadata": {},
     "output_type": "display_data"
    }
   ],
   "source": [
    "# rachel duo hist\n",
    "\n",
    "rachel_duo.hist('rating', color = '#FFDC00', figsize =(10,7))\n",
    "\n",
    "plt.style.use('dark_background')\n",
    "plt.axvline(rachel_duo.rating.mean(), color = 'white', linewidth = 5)\n",
    "plt.xlabel('rachel duo', fontsize = 15)\n",
    "plt.grid(False)\n",
    "plt.box(False)\n",
    "plt.xticks([7.2,7.6,8.0,8.4,8.8,9.2,9.6])\n",
    "plt.yticks([0,10,20,30,35])\n",
    "plt.title('')\n",
    "\n",
    "print(rachel_duo.rating.mean())\n",
    "\n",
    "# save file\n",
    "# plt.savefig('rachel duo ratings.png')"
   ]
  },
  {
   "cell_type": "markdown",
   "metadata": {},
   "source": [
    "### Ross"
   ]
  },
  {
   "cell_type": "code",
   "execution_count": 90,
   "metadata": {
    "colab": {
     "base_uri": "https://localhost:8080/",
     "height": 59
    },
    "colab_type": "code",
    "id": "rj0Ndj22BIV1",
    "outputId": "bafb6097-f5ce-4db2-a4df-a53bb43af1c3"
   },
   "outputs": [
    {
     "name": "stdout",
     "output_type": "stream",
     "text": [
      "The mean rating for eps with plots around ross: 8.550000000000004\n",
      "The mean rating for eps with individual plots around ross: 8.491071428571429\n",
      "ross appears in 114 plotlines\n"
     ]
    }
   ],
   "source": [
    "# ross stats\n",
    "\n",
    "ross_codes = [6,16,26,36,46,56,126,136,146,156,236,246,256,346,356,456]\n",
    "ross12_codes = [16,26,36,46,56]\n",
    "\n",
    "ross_only = df[df['dynamics'] == 6]\n",
    "ross_duo = df[df.dynamics.isin(ross12_codes)]\n",
    "ross_df = df[df.dynamics.isin(ross_codes)]\n",
    "\n",
    "print('The mean rating for eps with plots around ross:',ross_duo.rating.mean())\n",
    "print('The mean rating for eps with individual plots around ross:',ross_only.rating.mean())\n",
    "print('ross appears in', ross_duo.rating.count(), 'plotlines')"
   ]
  },
  {
   "cell_type": "code",
   "execution_count": 91,
   "metadata": {
    "colab": {
     "base_uri": "https://localhost:8080/",
     "height": 465
    },
    "colab_type": "code",
    "id": "QU1USuizuxw2",
    "outputId": "d336c913-00c2-49cd-dc8c-7cf7f032e515"
   },
   "outputs": [
    {
     "name": "stdout",
     "output_type": "stream",
     "text": [
      "8.491071428571429\n"
     ]
    },
    {
     "data": {
      "image/png": "[encoded data removed]",
      "text/plain": [
       "<Figure size 720x504 with 1 Axes>"
      ]
     },
     "metadata": {},
     "output_type": "display_data"
    }
   ],
   "source": [
    "# ross only histogram\n",
    "\n",
    "ross_only.hist('rating', color = '#BC312A', figsize =(10,7))\n",
    "\n",
    "plt.style.use('dark_background')\n",
    "plt.axvline(ross_only.rating.mean(), color = 'white', linewidth = 5)\n",
    "plt.xlabel('ross', fontsize = 15)\n",
    "plt.grid(False)\n",
    "plt.box(False)\n",
    "plt.xticks([7.2,7.6,8.0,8.4,8.8,9.2,9.6])\n",
    "plt.yticks([0,5,10,15])\n",
    "plt.title('')\n",
    "\n",
    "print(ross_only.rating.mean())\n",
    "\n",
    "# save file\n",
    "# plt.savefig('ross ratings.png')"
   ]
  },
  {
   "cell_type": "code",
   "execution_count": 93,
   "metadata": {
    "colab": {
     "base_uri": "https://localhost:8080/",
     "height": 465
    },
    "colab_type": "code",
    "id": "z4O8WQ0U3AzW",
    "outputId": "c352661b-86f0-47ea-9987-ae8a6885e189"
   },
   "outputs": [
    {
     "name": "stdout",
     "output_type": "stream",
     "text": [
      "8.550000000000004\n"
     ]
    },
    {
     "data": {
      "image/png": "[encoded data removed]",
      "text/plain": [
       "<Figure size 720x504 with 1 Axes>"
      ]
     },
     "metadata": {},
     "output_type": "display_data"
    }
   ],
   "source": [
    "# ross duo histogram\n",
    "\n",
    "ross_duo.hist('rating', color = '#BC312A', figsize =(10,7))\n",
    "\n",
    "plt.style.use('dark_background')\n",
    "plt.axvline(ross_duo.rating.mean(), color = 'white', linewidth = 5)\n",
    "plt.xlabel('ross duo', fontsize = 15)\n",
    "plt.grid(False)\n",
    "plt.box(False)\n",
    "plt.xticks([7.2,7.6,8.0,8.4,8.8,9.2,9.6])\n",
    "plt.yticks([0,10,20,30,35,])\n",
    "plt.title('')\n",
    "\n",
    "print(ross_duo.rating.mean())\n",
    "\n",
    "# save file\n",
    "# plt.savefig('ross duo ratings.png')"
   ]
  },
  {
   "cell_type": "markdown",
   "metadata": {},
   "source": [
    "## Character Rating Summary"
   ]
  },
  {
   "cell_type": "code",
   "execution_count": 95,
   "metadata": {
    "colab": {
     "base_uri": "https://localhost:8080/",
     "height": 101
    },
    "colab_type": "code",
    "id": "xbC90veQD3_j",
    "outputId": "cfabe19d-6bda-4d65-e04a-b99fa0f024dd"
   },
   "outputs": [
    {
     "data": {
      "text/plain": [
       "{'Chandler': [8.326470588235294, 8.60080645161291],\n",
       " 'Joey': [8.511111111111113, 8.531067961165052],\n",
       " 'Monica': [8.43809523809524, 8.552884615384617],\n",
       " 'Phoebe': [8.483076923076922, 8.486666666666665],\n",
       " 'Rachel': [8.389361702127662, 8.567424242424249],\n",
       " 'Ross': [8.491071428571429, 8.550000000000004]}"
      ]
     },
     "execution_count": 95,
     "metadata": {},
     "output_type": "execute_result"
    }
   ],
   "source": [
    "# summarize stats for all the characters\n",
    "\n",
    "individual_plotline_ratings = [8.326470588235294, 8.511111111111113, 8.43809523809524, 8.483076923076922, 8.389361702127662, 8.491071428571429]\n",
    "pair_plotline_ratings = [8.60080645161291, 8.531067961165052, 8.552884615384617, 8.486666666666665, 8.567424242424249, 8.550000000000004]\n",
    "\n",
    "ratings_list = [ [i,j] for i,j in zip(individual_plotline_ratings, pair_plotline_ratings) ]\n",
    "\n",
    "\n",
    "character_ratings_dict = { i:j for i,j in zip(names,ratings_list) }\n",
    "character_ratings_dict\n",
    "\n",
    "#the highest rated individual plotline character was joey\n",
    "#the lowest rated individual plotline character was chandler\n",
    "\n",
    "#the highest rated character was chandler in plots with 2 characters \n",
    "#the lowest rated character was phoebe in plots with 2 characters "
   ]
  },
  {
   "cell_type": "markdown",
   "metadata": {},
   "source": [
    "## Relationship Chord Visualizations\n",
    "The chord diagram in this project was adopted from Nadieh Bremer's work. Check out http://bl.ocks.org/nbremer/94db779237655907b907 for details on how to create it."
   ]
  },
  {
   "cell_type": "code",
   "execution_count": 96,
   "metadata": {
    "colab": {},
    "colab_type": "code",
    "id": "sanFlJ9MybTG"
   },
   "outputs": [],
   "source": [
    "# matrix for chord diagram\n",
    "# this is javascript code and will not work here\n",
    "# I'm only leaving this if you want to recreate my chord diagram\n",
    "\n",
    "# var matrix = [\n",
    "# [ 0, 36, 63, 6, 7, 12 ],\n",
    "# [ 36, 0, 7, 20, 26, 14 ],\n",
    "# [ 63, 7, 0, 18, 12, 4 ],\n",
    "# [ 6, 20, 18, 0, 17, 14 ],\n",
    "# [ 7, 26, 12, 17, 0, 70 ],\n",
    "# [ 12, 14, 4, 14, 70, 0 ]\n",
    "# ];\n",
    "\n",
    "# var colors = [\"#FF4238\",\"#FFDC00\",\"#42A2D6\",\"#9A0006\",\"#FFF580\", \"#00009E\", \"#134B24\",\"#BC312A\"];"
   ]
  }
 ],
 "metadata": {
  "colab": {
   "collapsed_sections": [],
   "include_colab_link": true,
   "name": "Friends of Friends.ipynb",
   "provenance": [],
   "version": "0.3.2"
  },
  "kernelspec": {
   "display_name": "Python 3",
   "language": "python",
   "name": "python3"
  },
  "language_info": {
   "codemirror_mode": {
    "name": "ipython",
    "version": 3
   },
   "file_extension": ".py",
   "mimetype": "text/x-python",
   "name": "python",
   "nbconvert_exporter": "python",
   "pygments_lexer": "ipython3",
   "version": "3.7.3"
  }
 },
 "nbformat": 4,
 "nbformat_minor": 4
}
